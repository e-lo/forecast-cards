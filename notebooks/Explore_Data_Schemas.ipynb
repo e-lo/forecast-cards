{
  "nbformat": 4,
  "nbformat_minor": 0,
  "metadata": {
    "colab": {
      "name": "Explore Data Schemas",
      "version": "0.3.2",
      "provenance": [],
      "collapsed_sections": []
    },
    "kernelspec": {
      "name": "python3",
      "display_name": "Python 3"
    }
  },
  "cells": [
    {
      "metadata": {
        "id": "MPKA5UGLlY7A",
        "colab_type": "code",
        "colab": {}
      },
      "cell_type": "code",
      "source": [
        "try:\n",
        "  import forecastcards\n",
        "except:\n",
        "  ! pip install --upgrade git+https://github.com/e-lo/forecastcards#egg=forecastcards\n",
        "  import forecastcards"
      ],
      "execution_count": 0,
      "outputs": []
    },
    {
      "metadata": {
        "id": "9KaerLcWSs_d",
        "colab_type": "text"
      },
      "cell_type": "markdown",
      "source": [
        "# Explore data schemas\n",
        "\n",
        "- Validate schemas\n",
        "- Plot entity relationship diagrams"
      ]
    },
    {
      "metadata": {
        "id": "F3-37cK3bWGY",
        "colab_type": "text"
      },
      "cell_type": "markdown",
      "source": [
        "## Validate schemas\n",
        "\n",
        "Uses [Frictionless Data Table Schema Package](https://github.com/frictionlessdata/tableschema-py) to validate that the schemas are valid.\n",
        "\n",
        "Returns a dictionary of schema objects.\n",
        "\n",
        "**`validate_schemas`**`(  \n",
        "    url_loc = default_schema_url,   \n",
        "    schema_parts = default_schema_parts  \n",
        "  ):`\n",
        "\n",
        "\n",
        "  - **`url_loc`** - url location of collection of valid json files that define the schema  \n",
        "  - **`schema_parts`** dictionary of `<schema part name>`:`<filename>``\n",
        "\n",
        "**TIP: ** If schema doesn't validate, clean your JSON with https://jsonlint.com/"
      ]
    },
    {
      "metadata": {
        "id": "Ve5Bq2HEmrWV",
        "colab_type": "code",
        "colab": {}
      },
      "cell_type": "code",
      "source": [
        "schema_url = r'https://raw.github.com/e-lo/forecast-cards/master/spec/en/'\n",
        "schema_parts = {\n",
        "    \"poi\": \"poi-schema.json\",\n",
        "    \"scenario\": \"scenario-schema.json\",\n",
        "    \"project\": \"project-schema.json\",\n",
        "    \"observations\": \"observations-schema.json\",\n",
        "    \"forecast\": \"forecast-schema.json\",\n",
        "}\n",
        "\n",
        "schemas = forecastcards.validate_schemas(schema_url, schema_parts)"
      ],
      "execution_count": 0,
      "outputs": []
    },
    {
      "metadata": {
        "id": "EKRd9vdwdndK",
        "colab_type": "text"
      },
      "cell_type": "markdown",
      "source": [
        "## Display Schemas\n",
        "\n",
        "Uses [GraphViz](http://www.graphviz.org/) to show relationships between schemas.\n"
      ]
    },
    {
      "metadata": {
        "id": "DAOOxzo8eD0T",
        "colab_type": "code",
        "colab": {}
      },
      "cell_type": "code",
      "source": [
        "!pip install graphviz \n",
        "!apt-get install graphviz"
      ],
      "execution_count": 0,
      "outputs": []
    },
    {
      "metadata": {
        "id": "J3tBljTJDtTR",
        "colab_type": "code",
        "colab": {}
      },
      "cell_type": "code",
      "source": [
        "forecastcards.make_erd_graph(schemas)"
      ],
      "execution_count": 0,
      "outputs": []
    },
    {
      "metadata": {
        "id": "DUluS9mhdmWm",
        "colab_type": "text"
      },
      "cell_type": "markdown",
      "source": [
        "## Show object relationships"
      ]
    },
    {
      "metadata": {
        "id": "nhevU0o6vhwe",
        "colab_type": "code",
        "colab": {}
      },
      "cell_type": "code",
      "source": [
        "forecastcards.relationship_graph()"
      ],
      "execution_count": 0,
      "outputs": []
    },
    {
      "metadata": {
        "id": "KrWZW_QOviWU",
        "colab_type": "text"
      },
      "cell_type": "markdown",
      "source": [
        "# Display Help for Forecast Cards\n",
        "\n",
        "Shows package structure and available functions"
      ]
    },
    {
      "metadata": {
        "id": "ouyXZrtTmMfR",
        "colab_type": "code",
        "colab": {}
      },
      "cell_type": "code",
      "source": [
        "help(forecastcards)\n"
      ],
      "execution_count": 0,
      "outputs": []
    },
    {
      "metadata": {
        "id": "6wSSvCk3siuH",
        "colab_type": "code",
        "colab": {}
      },
      "cell_type": "code",
      "source": [
        ""
      ],
      "execution_count": 0,
      "outputs": []
    }
  ]
}