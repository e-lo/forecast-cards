{
  "nbformat": 4,
  "nbformat_minor": 0,
  "metadata": {
    "colab": {
      "name": "Data Validation and Preparation",
      "version": "0.3.2",
      "provenance": [],
      "collapsed_sections": []
    },
    "kernelspec": {
      "name": "python3",
      "display_name": "Python 3"
    }
  },
  "cells": [
    {
      "metadata": {
        "id": "s5S3Mi75wYV0",
        "colab_type": "code",
        "colab": {}
      },
      "cell_type": "code",
      "source": [
        "import os\n",
        "import requests\n",
        "from urllib.parse import urljoin\n",
        "\n",
        "! pip install --upgrade git+https://github.com/e-lo/forecastcards#egg=forecastcards\n",
        "try:\n",
        "  import forecastcards\n",
        "except:\n",
        "  ! pip install --upgrade git+https://github.com/e-lo/forecastcards#egg=forecastcards\n",
        "  import forecastcards"
      ],
      "execution_count": 0,
      "outputs": []
    },
    {
      "metadata": {
        "id": "YlHI1siswpNL",
        "colab_type": "text"
      },
      "cell_type": "markdown",
      "source": [
        "# Data Validation and Preparation\n",
        "\n",
        "1. Find and map where the data is\n",
        "2. Validate data conforms to schema\n",
        "3. Combine data\n",
        "4. Clean and format data\n"
      ]
    },
    {
      "metadata": {
        "id": "HWaDWr4CxGgI",
        "colab_type": "text"
      },
      "cell_type": "markdown",
      "source": [
        "## 1 - Map the Cards\n",
        "\n",
        "Finds all the relevant cards and assigns them a type in order to compare to the data schema.\n",
        "\n",
        "Returns a dictionary of card locations by card type.\n",
        "\n",
        "**`map_cards`**`(  \n",
        "    repo_loc = default_repo_api,   \n",
        "    subdirs  = default_subdirs \n",
        "  ):`\n",
        "\n",
        "\n",
        "  - **`repo_loc`** - API tree URL for data to be used\n",
        "  - **`subdirs`**  - list of subdirs to search through\n",
        "\n",
        "\n"
      ]
    },
    {
      "metadata": {
        "id": "hm2WFKh9woAD",
        "colab_type": "code",
        "colab": {}
      },
      "cell_type": "code",
      "source": [
        "repo_api = \"https://api.github.com/repos/e-lo/forecast-cards/git/trees/f35185168b238429157adcbf5ba09d09ae7d0172?recursive=1\"\n",
        "\n",
        "subdirs = [\"examples\"]\n",
        "\n",
        "card_locs = forecastcards.map_cards(repo_loc=repo_api,subdirs=subdirs)\n",
        "#print(card_locs)"
      ],
      "execution_count": 0,
      "outputs": []
    },
    {
      "metadata": {
        "id": "znDdRbDAxPdP",
        "colab_type": "text"
      },
      "cell_type": "markdown",
      "source": [
        "## 2 - Validate Forecast Card Data\n",
        "\n",
        "Uses [Frictionless Good Tables](https://github.com/frictionlessdata/goodtables-py) to validate that the data matches the schemas.\n",
        "\n",
        "Returns a dictionary of reports by card type.\n",
        "\n",
        "**`validate_cards`**`(  \n",
        "    card_locs,\n",
        "    schemas_loc \n",
        "   ):`\n",
        "\n",
        "\n",
        "  - **`card_locs`** - dictionary of `card type`: list of files\n",
        "  - **`schemas_loc`** - dictionary of `card type` : schema locations\n",
        "\n",
        "**TIP: ** If data doesn't validate, try to resolve with the GUI at  https://try.goodtables.io"
      ]
    },
    {
      "metadata": {
        "id": "Jn2U1t5Lym4z",
        "colab_type": "code",
        "colab": {}
      },
      "cell_type": "code",
      "source": [
        "schema_locs = { 'poi'         : \"https://raw.github.com/e-lo/forecast-cards/master/spec/en/poi-schema.json\",\n",
        "                \"scenario\"    : \"https://raw.github.com/e-lo/forecast-cards/master/spec/en/scenario-schema.json\",\n",
        "                \"project\"     : \"https://raw.github.com/e-lo/forecast-cards/master/spec/en/project-schema.json\",\n",
        "                \"observations\": \"https://raw.github.com/e-lo/forecast-cards/master/spec/en/observations-schema.json\",\n",
        "                \"forecast\"    : \"https://raw.github.com/e-lo/forecast-cards/master/spec/en/forecast-schema.json\",\n",
        "}\n",
        "\n",
        "data_reports = forecastcards.validate_cards(card_locs,schema_locs)\n",
        "    "
      ],
      "execution_count": 0,
      "outputs": []
    },
    {
      "metadata": {
        "id": "FDfD4CAjyP8V",
        "colab_type": "code",
        "colab": {}
      },
      "cell_type": "code",
      "source": [
        "data_reports['poi']"
      ],
      "execution_count": 0,
      "outputs": []
    },
    {
      "metadata": {
        "id": "N35s48TM0fsg",
        "colab_type": "text"
      },
      "cell_type": "markdown",
      "source": [
        "## 3 - Combine Data\n",
        "\n",
        "Returns a dictionary of reports by card type.\n",
        "\n",
        "**`validate_cards`**`(  \n",
        "    card_locs \n",
        "    schemas_loc \n",
        "   ):`\n",
        "\n",
        "\n",
        "  - **`card_locs`** - dictionary of `card type`: list of files\n",
        "  - **`schemas_loc`** - dictionary of `card type` : schema locations"
      ]
    },
    {
      "metadata": {
        "id": "LuUXrw320f5h",
        "colab_type": "code",
        "colab": {}
      },
      "cell_type": "code",
      "source": [
        "all_df = forecastcards.combine_data(card_locs)"
      ],
      "execution_count": 0,
      "outputs": []
    },
    {
      "metadata": {
        "id": "h--fqzwO0mpD",
        "colab_type": "code",
        "colab": {}
      },
      "cell_type": "code",
      "source": [
        "all_df.dtypes"
      ],
      "execution_count": 0,
      "outputs": []
    },
    {
      "metadata": {
        "id": "wUn3cT5q2yhk",
        "colab_type": "text"
      },
      "cell_type": "markdown",
      "source": [
        "## 4 - Clean and Recode\n",
        "\n",
        "- Fix missing values\n",
        "- Code categorical variables\n",
        "- Scale for estimation\n",
        "\n",
        "Note that this entire process can be exceuted by calling `default_data_clean(df)`\n",
        "\n",
        "### Fix Missing Values\n",
        "\n",
        "Returns a dataframe that has some missing data recoded to 'missing' and some records dropped because they didn't have minimum values.\n",
        "\n",
        "**`fix_missing_values`**`(  \n",
        "    dataframe\n",
        "    recode_na_vars = default_recode_na_vars\n",
        "    no_na_vars     = default_no_na_vars\n",
        "   ):`\n",
        "\n",
        "\n",
        "  - **`recode_na_vars`** - list of variables to recode NA to \"missing\"\n",
        "  - **`no_na_vars`** - list of variables where having an NA isn't acceptable"
      ]
    },
    {
      "metadata": {
        "id": "jx5kx1XI21J8",
        "colab_type": "code",
        "colab": {}
      },
      "cell_type": "code",
      "source": [
        "recode_na_vars = ['forecast_system_type', 'area_type', 'forecaster_type', 'state', 'agency', 'functional_class','facility_type','project_type']\n",
        "no_na_vars     = ['scenario_date','forecast_creation_date','forecast_value','obs_value']\n",
        "\n",
        "select_df = forecastcards.fix_missing_values(all_df,\n",
        "                                             recode_na_vars=recode_na_vars,\n",
        "                                             no_na_vars=no_na_vars)"
      ],
      "execution_count": 0,
      "outputs": []
    },
    {
      "metadata": {
        "id": "l6ekOBXe3Pxx",
        "colab_type": "text"
      },
      "cell_type": "markdown",
      "source": [
        "### Create Categorical Variables\n",
        "\n",
        "1. Add categorical variables for project size (cutoff: 30k), scenario decade and forecast decade.\n",
        "\n",
        "   Returns a dataframe.\n",
        "\n",
        "   **`create_default_categorical_vars`**`(  \n",
        "    dataframe\n",
        "   )`\n",
        "   \n",
        "2. Recodes categorical variables to dummy variables.\n",
        "\n",
        "    Returns a dataframe.\n",
        "\n",
        "    **`categorical_to_dummy`**`(  \n",
        "    dataframe\n",
        "    categorical_cols_list=default_categorical_cols,\n",
        "    required_vars = default_required_vars\n",
        "   ):`\n",
        "   \n",
        " \n",
        " - **`categorical_cols_list`** - list of columns that will be recoded  \n",
        " - **`required_vars`** - list of variables that will be kept"
      ]
    },
    {
      "metadata": {
        "id": "M6xCThU43eXM",
        "colab_type": "code",
        "colab": {}
      },
      "cell_type": "code",
      "source": [
        "select_df = forecastcards.create_default_categorical_vars(select_df)\n",
        "estimate_df = forecastcards.categorical_to_dummy(select_df)"
      ],
      "execution_count": 0,
      "outputs": []
    },
    {
      "metadata": {
        "id": "W-ZPskdT17mP",
        "colab_type": "code",
        "colab": {}
      },
      "cell_type": "code",
      "source": [
        "estimate_df.dtypes"
      ],
      "execution_count": 0,
      "outputs": []
    },
    {
      "metadata": {
        "id": "bBwsBfsr3gUD",
        "colab_type": "text"
      },
      "cell_type": "markdown",
      "source": [
        "### Scale \n",
        "\n",
        "Returns a dataframe that has the dummy variables scaled to the forecast value so that the estimation isn't biased.\n",
        "\n",
        "**`scale_dummies_by_forecast`**`(  \n",
        "    dataframe\n",
        "    no_scale_cols=default_no_scale_cols\n",
        "   ):`\n",
        "\n",
        "\n",
        "  - **`no_scale_cols`** - list of variables that won't be scaled"
      ]
    },
    {
      "metadata": {
        "id": "5IWuIkH43fo9",
        "colab_type": "code",
        "colab": {}
      },
      "cell_type": "code",
      "source": [
        "scaled_df = forecastcards.scale_dummies_by_forecast_value(estimate_df)"
      ],
      "execution_count": 0,
      "outputs": []
    },
    {
      "metadata": {
        "id": "Sugovd462g_P",
        "colab_type": "text"
      },
      "cell_type": "markdown",
      "source": [
        "# Dataset ready for Estimation"
      ]
    },
    {
      "metadata": {
        "id": "4r9eEzo72kFG",
        "colab_type": "code",
        "colab": {}
      },
      "cell_type": "code",
      "source": [
        "scaled_df.describe()\n",
        "scaled_df"
      ],
      "execution_count": 0,
      "outputs": []
    },
    {
      "metadata": {
        "id": "LftuXV7j2lpG",
        "colab_type": "code",
        "colab": {}
      },
      "cell_type": "code",
      "source": [
        "estimate_df.plot.scatter(y='forecast_value',\n",
        "                         x='obs_value')\n"
      ],
      "execution_count": 0,
      "outputs": []
    },
    {
      "metadata": {
        "id": "-P5C0nDlC627",
        "colab_type": "code",
        "colab": {}
      },
      "cell_type": "code",
      "source": [
        ""
      ],
      "execution_count": 0,
      "outputs": []
    }
  ]
}