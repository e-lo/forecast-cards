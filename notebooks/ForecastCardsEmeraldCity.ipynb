{
  "nbformat": 4,
  "nbformat_minor": 0,
  "metadata": {
    "colab": {
      "name": "ForecastCards.ipynb",
      "version": "0.3.2",
      "provenance": [],
      "collapsed_sections": []
    },
    "kernelspec": {
      "name": "python3",
      "display_name": "Python 3"
    }
  },
  "cells": [
    {
      "metadata": {
        "id": "DxV3ghbzkaHc",
        "colab_type": "code",
        "colab": {}
      },
      "cell_type": "code",
      "source": [
        "import os\n",
        "import requests\n",
        "from urllib.parse import urljoin\n",
        "\n",
        "try:\n",
        "  import goodtables\n",
        "except:\n",
        "  !pip install goodtables\n",
        "  import goodtables\n",
        "try:\n",
        "  import tableschema\n",
        "except:\n",
        "  !pip install tableschema\n",
        "  import tableschema\n",
        "try:\n",
        "  import tableschema_pandas\n",
        "except:\n",
        "  !pip install tableschema_pandas\n",
        "  import tableschema_pandas\n",
        "try:\n",
        "  import graphviz\n",
        "except:\n",
        "  !pip install graphviz\n",
        "  !apt-get install graphviz\n",
        "  import graphviz\n",
        "from tableschema import Schema\n",
        "#!apt-get install graphviz\n",
        "\n",
        "try:\n",
        "  import statsmodels\n",
        "except:\n",
        "  !pip install statsmodels\n",
        "  import statsmodels\n"
      ],
      "execution_count": 0,
      "outputs": []
    },
    {
      "metadata": {
        "id": "KLtt3HDd2j8Q",
        "colab_type": "text"
      },
      "cell_type": "markdown",
      "source": [
        ""
      ]
    },
    {
      "metadata": {
        "id": "Ck4yYehAFzsa",
        "colab_type": "text"
      },
      "cell_type": "markdown",
      "source": [
        "Clean your JSON with https://jsonlint.com/\n",
        "Check against schemas with https://try.goodtables.io/"
      ]
    },
    {
      "metadata": {
        "id": "IBXZafrNkkyg",
        "colab_type": "code",
        "colab": {}
      },
      "cell_type": "code",
      "source": [
        "GITHUB_USER  = \"e-lo\"\n",
        "GITHUB_REPO  = \"forecast-cards\"\n",
        "BRANCH       = \"master\"\n",
        "SHA          = \"f35185168b238429157adcbf5ba09d09ae7d0172\"\n",
        "SUBDIRS      = [\"examples\"] #specify at least one\n",
        "repo_api = \"\".join([\"https://api.github.com/repos/\",GITHUB_USER,\"/\",GITHUB_REPO,\"/git/trees/\",SHA,\"?recursive=1\"])\n",
        "repo_raw = \"\".join([\"https://raw.github.com/\",GITHUB_USER,\"/\",GITHUB_REPO,\"/\",BRANCH,\"/\"])"
      ],
      "execution_count": 0,
      "outputs": []
    },
    {
      "metadata": {
        "id": "vdmqf-IXJFPh",
        "colab_type": "text"
      },
      "cell_type": "markdown",
      "source": [
        "## Find and validate **schema**s"
      ]
    },
    {
      "metadata": {
        "id": "AQsGv03g947A",
        "colab_type": "code",
        "colab": {
          "base_uri": "https://localhost:8080/",
          "height": 102
        },
        "outputId": "d4023542-d5ce-4e09-9422-4d3867ed8f03"
      },
      "cell_type": "code",
      "source": [
        "## specify which schemas to use\n",
        "schemas_loc = {\n",
        "    \"poi\": urljoin(repo_raw,\"poi-schema.json\"),\n",
        "    \"scenario\": urljoin(repo_raw,\"scenario-schema.json\"),\n",
        "    \"project\": urljoin(repo_raw,\"project-schema.json\"),\n",
        "    \"observations\": urljoin(repo_raw,\"observations-schema.json\"),\n",
        "    \"forecast\": urljoin(repo_raw,\"forecast-schema.json\"),\n",
        "}\n",
        "\n",
        "## Confirm Schemas are valid\n",
        "schemas = {}\n",
        "for k,v in schemas_loc.items():\n",
        "  print (\"Obtaining \", k,\"schema from: \",v)\n",
        "  schemas[k] = Schema(v)\n",
        "#requests.get(v)\n",
        "#print(schemas['poi'])"
      ],
      "execution_count": 35,
      "outputs": [
        {
          "output_type": "stream",
          "text": [
            "Obtaining  poi schema from:  https://raw.github.com/e-lo/forecast-cards/master/poi-schema.json\n",
            "Obtaining  scenario schema from:  https://raw.github.com/e-lo/forecast-cards/master/scenario-schema.json\n",
            "Obtaining  project schema from:  https://raw.github.com/e-lo/forecast-cards/master/project-schema.json\n",
            "Obtaining  observations schema from:  https://raw.github.com/e-lo/forecast-cards/master/observations-schema.json\n",
            "Obtaining  forecast schema from:  https://raw.github.com/e-lo/forecast-cards/master/forecast-schema.json\n"
          ],
          "name": "stdout"
        }
      ]
    },
    {
      "metadata": {
        "id": "2IziWzuVlfZV",
        "colab_type": "code",
        "colab": {
          "base_uri": "https://localhost:8080/",
          "height": 1024
        },
        "outputId": "5e9ba85a-8c3f-49b5-fa63-e4e542c527e0"
      },
      "cell_type": "code",
      "source": [
        "#table = tableschema.Table(os.path.join(EX,'poi-rx123.csv'), schema=os.path.join(GH,\"poi-schema.json\"))\n",
        "#[i['name'] for i in schemas[\"poi\"].descriptor['fields']]\n",
        "from graphviz import Digraph\n",
        "erd_graph = Digraph(name='Schemas', node_attr={'shape': 'plain'})\n",
        "\n",
        "\n",
        "for k,v in schemas.items():\n",
        "  node_label=\"<<table border='0' cellborder='1' cellspacing='0'>\"\n",
        "  node_label+=\"<tr><td><b>\"\n",
        "  node_label+=str(k)\n",
        "  node_label+=\"</b></td></tr>\"\n",
        "  for f in v.descriptor['fields']:\n",
        "    node_label+=\"<tr><td port='\"\n",
        "    node_label+=f['name']\n",
        "    node_label+=\"'>\"\n",
        "    node_label+=f['name']\n",
        "    node_label+=\"</td></tr>\"\n",
        "  node_label+=\"</table>>\"\n",
        "  erd_graph.node(k,label = node_label)\n",
        "\n",
        "erd_graph.edge(\"poi:poi_id\", \"observations:poi_id\")\n",
        "erd_graph.edge(\"observations:forecast_id\",\"forecast:forecast_id\")\n",
        "erd_graph.edge(\"scenario:run_id\",\"forecast:run_id\")\n",
        "erd_graph.edge(\"project:project_id\",\"scenario:project_id\")\n",
        "\n",
        "erd_graph \n",
        "  "
      ],
      "execution_count": 36,
      "outputs": [
        {
          "output_type": "execute_result",
          "data": {
            "text/plain": [
              "<graphviz.dot.Digraph at 0x7f6621457e48>"
            ],
            "image/svg+xml": "<?xml version=\"1.0\" encoding=\"UTF-8\" standalone=\"no\"?>\n<!DOCTYPE svg PUBLIC \"-//W3C//DTD SVG 1.1//EN\"\n \"http://www.w3.org/Graphics/SVG/1.1/DTD/svg11.dtd\">\n<!-- Generated by graphviz version 2.40.1 (20161225.0304)\n -->\n<!-- Title: Schemas Pages: 1 -->\n<svg width=\"265pt\" height=\"752pt\"\n viewBox=\"0.00 0.00 265.01 752.00\" xmlns=\"http://www.w3.org/2000/svg\" xmlns:xlink=\"http://www.w3.org/1999/xlink\">\n<g id=\"graph0\" class=\"graph\" transform=\"scale(1 1) rotate(0) translate(4 748)\">\n<title>Schemas</title>\n<polygon fill=\"#ffffff\" stroke=\"transparent\" points=\"-4,4 -4,-748 261.0095,-748 261.0095,4 -4,4\"/>\n<!-- poi -->\n<g id=\"node1\" class=\"node\">\n<title>poi</title>\n<polygon fill=\"none\" stroke=\"#000000\" points=\"0,-722.5 0,-743.5 100,-743.5 100,-722.5 0,-722.5\"/>\n<text text-anchor=\"start\" x=\"40\" y=\"-730.3\" font-family=\"Times,serif\" font-weight=\"bold\" font-size=\"14.00\" fill=\"#000000\">poi</text>\n<polygon fill=\"none\" stroke=\"#000000\" points=\"0,-701.5 0,-722.5 100,-722.5 100,-701.5 0,-701.5\"/>\n<text text-anchor=\"start\" x=\"31\" y=\"-708.3\" font-family=\"Times,serif\" font-size=\"14.00\" fill=\"#000000\">poi_id</text>\n<polygon fill=\"none\" stroke=\"#000000\" points=\"0,-680.5 0,-701.5 100,-701.5 100,-680.5 0,-680.5\"/>\n<text text-anchor=\"start\" x=\"3\" y=\"-687.3\" font-family=\"Times,serif\" font-size=\"14.00\" fill=\"#000000\">poi_short_name</text>\n<polygon fill=\"none\" stroke=\"#000000\" points=\"0,-659.5 0,-680.5 100,-680.5 100,-659.5 0,-659.5\"/>\n<text text-anchor=\"start\" x=\"11\" y=\"-666.3\" font-family=\"Times,serif\" font-size=\"14.00\" fill=\"#000000\">facility_name</text>\n<polygon fill=\"none\" stroke=\"#000000\" points=\"0,-638.5 0,-659.5 100,-659.5 100,-638.5 0,-638.5\"/>\n<text text-anchor=\"start\" x=\"38\" y=\"-645.3\" font-family=\"Times,serif\" font-size=\"14.00\" fill=\"#000000\">start</text>\n<polygon fill=\"none\" stroke=\"#000000\" points=\"0,-617.5 0,-638.5 100,-638.5 100,-617.5 0,-617.5\"/>\n<text text-anchor=\"start\" x=\"39\" y=\"-624.3\" font-family=\"Times,serif\" font-size=\"14.00\" fill=\"#000000\">end</text>\n<polygon fill=\"none\" stroke=\"#000000\" points=\"0,-596.5 0,-617.5 100,-617.5 100,-596.5 0,-596.5\"/>\n<text text-anchor=\"start\" x=\"22.5\" y=\"-603.3\" font-family=\"Times,serif\" font-size=\"14.00\" fill=\"#000000\">area_type</text>\n<polygon fill=\"none\" stroke=\"#000000\" points=\"0,-575.5 0,-596.5 100,-596.5 100,-575.5 0,-575.5\"/>\n<text text-anchor=\"start\" x=\"14\" y=\"-582.3\" font-family=\"Times,serif\" font-size=\"14.00\" fill=\"#000000\">facility_type</text>\n<polygon fill=\"none\" stroke=\"#000000\" points=\"0,-554.5 0,-575.5 100,-575.5 100,-554.5 0,-554.5\"/>\n<text text-anchor=\"start\" x=\"4\" y=\"-561.3\" font-family=\"Times,serif\" font-size=\"14.00\" fill=\"#000000\">functional_class</text>\n<polygon fill=\"none\" stroke=\"#000000\" points=\"0,-533.5 0,-554.5 100,-554.5 100,-533.5 0,-533.5\"/>\n<text text-anchor=\"start\" x=\"28\" y=\"-540.3\" font-family=\"Times,serif\" font-size=\"14.00\" fill=\"#000000\">features</text>\n<polygon fill=\"none\" stroke=\"#000000\" points=\"0,-512.5 0,-533.5 100,-533.5 100,-512.5 0,-512.5\"/>\n<text text-anchor=\"start\" x=\"37.5\" y=\"-519.3\" font-family=\"Times,serif\" font-size=\"14.00\" fill=\"#000000\">state</text>\n<polygon fill=\"none\" stroke=\"#000000\" points=\"0,-491.5 0,-512.5 100,-512.5 100,-491.5 0,-491.5\"/>\n<text text-anchor=\"start\" x=\"17.5\" y=\"-498.3\" font-family=\"Times,serif\" font-size=\"14.00\" fill=\"#000000\">jurisdiction</text>\n<polygon fill=\"none\" stroke=\"#000000\" points=\"0,-470.5 0,-491.5 100,-491.5 100,-470.5 0,-470.5\"/>\n<text text-anchor=\"start\" x=\"5\" y=\"-477.3\" font-family=\"Times,serif\" font-size=\"14.00\" fill=\"#000000\">poi_description</text>\n</g>\n<!-- observations -->\n<g id=\"node4\" class=\"node\">\n<title>observations</title>\n<polygon fill=\"none\" stroke=\"#000000\" points=\"8,-413.5 8,-434.5 92,-434.5 92,-413.5 8,-413.5\"/>\n<text text-anchor=\"start\" x=\"11\" y=\"-421.3\" font-family=\"Times,serif\" font-weight=\"bold\" font-size=\"14.00\" fill=\"#000000\">observations</text>\n<polygon fill=\"none\" stroke=\"#000000\" points=\"8,-392.5 8,-413.5 92,-413.5 92,-392.5 8,-392.5\"/>\n<text text-anchor=\"start\" x=\"30\" y=\"-399.3\" font-family=\"Times,serif\" font-size=\"14.00\" fill=\"#000000\">obs_id</text>\n<polygon fill=\"none\" stroke=\"#000000\" points=\"8,-371.5 8,-392.5 92,-392.5 92,-371.5 8,-371.5\"/>\n<text text-anchor=\"start\" x=\"31\" y=\"-378.3\" font-family=\"Times,serif\" font-size=\"14.00\" fill=\"#000000\">poi_id</text>\n<polygon fill=\"none\" stroke=\"#000000\" points=\"8,-350.5 8,-371.5 92,-371.5 92,-350.5 8,-350.5\"/>\n<text text-anchor=\"start\" x=\"18.5\" y=\"-357.3\" font-family=\"Times,serif\" font-size=\"14.00\" fill=\"#000000\">forecast_id</text>\n<polygon fill=\"none\" stroke=\"#000000\" points=\"8,-329.5 8,-350.5 92,-350.5 92,-329.5 8,-329.5\"/>\n<text text-anchor=\"start\" x=\"24\" y=\"-336.3\" font-family=\"Times,serif\" font-size=\"14.00\" fill=\"#000000\">equip_id</text>\n<polygon fill=\"none\" stroke=\"#000000\" points=\"8,-308.5 8,-329.5 92,-329.5 92,-308.5 8,-308.5\"/>\n<text text-anchor=\"start\" x=\"17.5\" y=\"-315.3\" font-family=\"Times,serif\" font-size=\"14.00\" fill=\"#000000\">equip_type</text>\n<polygon fill=\"none\" stroke=\"#000000\" points=\"8,-287.5 8,-308.5 92,-308.5 92,-287.5 8,-287.5\"/>\n<text text-anchor=\"start\" x=\"24\" y=\"-294.3\" font-family=\"Times,serif\" font-size=\"14.00\" fill=\"#000000\">obs_date</text>\n<polygon fill=\"none\" stroke=\"#000000\" points=\"8,-266.5 8,-287.5 92,-287.5 92,-266.5 8,-266.5\"/>\n<text text-anchor=\"start\" x=\"22\" y=\"-273.3\" font-family=\"Times,serif\" font-size=\"14.00\" fill=\"#000000\">time_start</text>\n<polygon fill=\"none\" stroke=\"#000000\" points=\"8,-245.5 8,-266.5 92,-266.5 92,-245.5 8,-245.5\"/>\n<text text-anchor=\"start\" x=\"23\" y=\"-252.3\" font-family=\"Times,serif\" font-size=\"14.00\" fill=\"#000000\">time_end</text>\n<polygon fill=\"none\" stroke=\"#000000\" points=\"8,-224.5 8,-245.5 92,-245.5 92,-224.5 8,-224.5\"/>\n<text text-anchor=\"start\" x=\"13.5\" y=\"-231.3\" font-family=\"Times,serif\" font-size=\"14.00\" fill=\"#000000\">obs_variable</text>\n<polygon fill=\"none\" stroke=\"#000000\" points=\"8,-203.5 8,-224.5 92,-224.5 92,-203.5 8,-203.5\"/>\n<text text-anchor=\"start\" x=\"20.5\" y=\"-210.3\" font-family=\"Times,serif\" font-size=\"14.00\" fill=\"#000000\">obs_value</text>\n</g>\n<!-- poi&#45;&gt;observations -->\n<g id=\"edge1\" class=\"edge\">\n<title>poi:poi_id&#45;&gt;observations:poi_id</title>\n<path fill=\"none\" stroke=\"#000000\" d=\"M100,-712.5C108.2202,-712.5 102.6416,-447.2842 94.7922,-392.3762\"/>\n<polygon fill=\"#000000\" stroke=\"#000000\" points=\"98.0886,-391.1706 92,-382.5 91.3526,-393.075 98.0886,-391.1706\"/>\n</g>\n<!-- scenario -->\n<g id=\"node2\" class=\"node\">\n<title>scenario</title>\n<polygon fill=\"none\" stroke=\"#000000\" points=\"111,-403.5 111,-424.5 244,-424.5 244,-403.5 111,-403.5\"/>\n<text text-anchor=\"start\" x=\"152\" y=\"-411.3\" font-family=\"Times,serif\" font-weight=\"bold\" font-size=\"14.00\" fill=\"#000000\">scenario</text>\n<polygon fill=\"none\" stroke=\"#000000\" points=\"111,-382.5 111,-403.5 244,-403.5 244,-382.5 111,-382.5\"/>\n<text text-anchor=\"start\" x=\"158\" y=\"-389.3\" font-family=\"Times,serif\" font-size=\"14.00\" fill=\"#000000\">run_id</text>\n<polygon fill=\"none\" stroke=\"#000000\" points=\"111,-361.5 111,-382.5 244,-382.5 244,-361.5 111,-361.5\"/>\n<text text-anchor=\"start\" x=\"148.5\" y=\"-368.3\" font-family=\"Times,serif\" font-size=\"14.00\" fill=\"#000000\">project_id</text>\n<polygon fill=\"none\" stroke=\"#000000\" points=\"111,-340.5 111,-361.5 244,-361.5 244,-340.5 111,-340.5\"/>\n<text text-anchor=\"start\" x=\"144.5\" y=\"-347.3\" font-family=\"Times,serif\" font-size=\"14.00\" fill=\"#000000\">scenario_id</text>\n<polygon fill=\"none\" stroke=\"#000000\" points=\"111,-319.5 111,-340.5 244,-340.5 244,-319.5 111,-319.5\"/>\n<text text-anchor=\"start\" x=\"138.5\" y=\"-326.3\" font-family=\"Times,serif\" font-size=\"14.00\" fill=\"#000000\">scenario_date</text>\n<polygon fill=\"none\" stroke=\"#000000\" points=\"111,-298.5 111,-319.5 244,-319.5 244,-298.5 111,-298.5\"/>\n<text text-anchor=\"start\" x=\"135\" y=\"-305.3\" font-family=\"Times,serif\" font-size=\"14.00\" fill=\"#000000\">scenario_name</text>\n<polygon fill=\"none\" stroke=\"#000000\" points=\"111,-277.5 111,-298.5 244,-298.5 244,-277.5 111,-277.5\"/>\n<text text-anchor=\"start\" x=\"132\" y=\"-284.3\" font-family=\"Times,serif\" font-size=\"14.00\" fill=\"#000000\">forecast_system</text>\n<polygon fill=\"none\" stroke=\"#000000\" points=\"111,-256.5 111,-277.5 244,-277.5 244,-256.5 111,-256.5\"/>\n<text text-anchor=\"start\" x=\"116\" y=\"-263.3\" font-family=\"Times,serif\" font-size=\"14.00\" fill=\"#000000\">forecast_system_type</text>\n<polygon fill=\"none\" stroke=\"#000000\" points=\"111,-235.5 111,-256.5 244,-256.5 244,-235.5 111,-235.5\"/>\n<text text-anchor=\"start\" x=\"114\" y=\"-242.3\" font-family=\"Times,serif\" font-size=\"14.00\" fill=\"#000000\">forecast_creation_date</text>\n<polygon fill=\"none\" stroke=\"#000000\" points=\"111,-214.5 111,-235.5 244,-235.5 244,-214.5 111,-214.5\"/>\n<text text-anchor=\"start\" x=\"134\" y=\"-221.3\" font-family=\"Times,serif\" font-size=\"14.00\" fill=\"#000000\">forecaster_type</text>\n</g>\n<!-- forecast -->\n<g id=\"node5\" class=\"node\">\n<title>forecast</title>\n<polygon fill=\"none\" stroke=\"#000000\" points=\"62,-147 62,-168 165,-168 165,-147 62,-147\"/>\n<text text-anchor=\"start\" x=\"89.5\" y=\"-154.8\" font-family=\"Times,serif\" font-weight=\"bold\" font-size=\"14.00\" fill=\"#000000\">forecast</text>\n<polygon fill=\"none\" stroke=\"#000000\" points=\"62,-126 62,-147 165,-147 165,-126 62,-126\"/>\n<text text-anchor=\"start\" x=\"82\" y=\"-132.8\" font-family=\"Times,serif\" font-size=\"14.00\" fill=\"#000000\">forecast_id</text>\n<polygon fill=\"none\" stroke=\"#000000\" points=\"62,-105 62,-126 165,-126 165,-105 62,-105\"/>\n<text text-anchor=\"start\" x=\"94\" y=\"-111.8\" font-family=\"Times,serif\" font-size=\"14.00\" fill=\"#000000\">run_id</text>\n<polygon fill=\"none\" stroke=\"#000000\" points=\"62,-84 62,-105 165,-105 165,-84 62,-84\"/>\n<text text-anchor=\"start\" x=\"94.5\" y=\"-90.8\" font-family=\"Times,serif\" font-size=\"14.00\" fill=\"#000000\">poi_id</text>\n<polygon fill=\"none\" stroke=\"#000000\" points=\"62,-63 62,-84 165,-84 165,-63 62,-63\"/>\n<text text-anchor=\"start\" x=\"85.5\" y=\"-69.8\" font-family=\"Times,serif\" font-size=\"14.00\" fill=\"#000000\">start_time</text>\n<polygon fill=\"none\" stroke=\"#000000\" points=\"62,-42 62,-63 165,-63 165,-42 62,-42\"/>\n<text text-anchor=\"start\" x=\"86.5\" y=\"-48.8\" font-family=\"Times,serif\" font-size=\"14.00\" fill=\"#000000\">end_time</text>\n<polygon fill=\"none\" stroke=\"#000000\" points=\"62,-21 62,-42 165,-42 165,-21 62,-21\"/>\n<text text-anchor=\"start\" x=\"65\" y=\"-27.8\" font-family=\"Times,serif\" font-size=\"14.00\" fill=\"#000000\">forecast_variable</text>\n<polygon fill=\"none\" stroke=\"#000000\" points=\"62,0 62,-21 165,-21 165,0 62,0\"/>\n<text text-anchor=\"start\" x=\"72.5\" y=\"-6.8\" font-family=\"Times,serif\" font-size=\"14.00\" fill=\"#000000\">forecast_value</text>\n</g>\n<!-- scenario&#45;&gt;forecast -->\n<g id=\"edge3\" class=\"edge\">\n<title>scenario:run_id&#45;&gt;forecast:run_id</title>\n<path fill=\"none\" stroke=\"#000000\" d=\"M111,-393.5C101.0556,-393.5 106.855,-223.5394 111,-214.5 124.2015,-185.7106 151.7985,-196.7894 165,-168 172.7517,-151.0953 182.993,-127.7255 174.6556,-119.2415\"/>\n<polygon fill=\"#000000\" stroke=\"#000000\" points=\"175.594,-115.8646 165,-116 173.3661,-122.5006 175.594,-115.8646\"/>\n</g>\n<!-- project -->\n<g id=\"node3\" class=\"node\">\n<title>project</title>\n<polygon fill=\"none\" stroke=\"#000000\" points=\"118,-670.5 118,-691.5 238,-691.5 238,-670.5 118,-670.5\"/>\n<text text-anchor=\"start\" x=\"156.5\" y=\"-678.3\" font-family=\"Times,serif\" font-weight=\"bold\" font-size=\"14.00\" fill=\"#000000\">project</text>\n<polygon fill=\"none\" stroke=\"#000000\" points=\"118,-649.5 118,-670.5 238,-670.5 238,-649.5 118,-649.5\"/>\n<text text-anchor=\"start\" x=\"149\" y=\"-656.3\" font-family=\"Times,serif\" font-size=\"14.00\" fill=\"#000000\">project_id</text>\n<polygon fill=\"none\" stroke=\"#000000\" points=\"118,-628.5 118,-649.5 238,-649.5 238,-628.5 118,-628.5\"/>\n<text text-anchor=\"start\" x=\"157.5\" y=\"-635.3\" font-family=\"Times,serif\" font-size=\"14.00\" fill=\"#000000\">agency</text>\n<polygon fill=\"none\" stroke=\"#000000\" points=\"118,-607.5 118,-628.5 238,-628.5 238,-607.5 118,-607.5\"/>\n<text text-anchor=\"start\" x=\"146\" y=\"-614.3\" font-family=\"Times,serif\" font-size=\"14.00\" fill=\"#000000\">description</text>\n<polygon fill=\"none\" stroke=\"#000000\" points=\"118,-586.5 118,-607.5 238,-607.5 238,-586.5 118,-586.5\"/>\n<text text-anchor=\"start\" x=\"142\" y=\"-593.3\" font-family=\"Times,serif\" font-size=\"14.00\" fill=\"#000000\">project_type</text>\n<polygon fill=\"none\" stroke=\"#000000\" points=\"118,-565.5 118,-586.5 238,-586.5 238,-565.5 118,-565.5\"/>\n<text text-anchor=\"start\" x=\"121\" y=\"-572.3\" font-family=\"Times,serif\" font-size=\"14.00\" fill=\"#000000\">year_open_planned</text>\n<polygon fill=\"none\" stroke=\"#000000\" points=\"118,-544.5 118,-565.5 238,-565.5 238,-544.5 118,-544.5\"/>\n<text text-anchor=\"start\" x=\"140\" y=\"-551.3\" font-family=\"Times,serif\" font-size=\"14.00\" fill=\"#000000\">year_horizon</text>\n<polygon fill=\"none\" stroke=\"#000000\" points=\"118,-523.5 118,-544.5 238,-544.5 238,-523.5 118,-523.5\"/>\n<text text-anchor=\"start\" x=\"128\" y=\"-530.3\" font-family=\"Times,serif\" font-size=\"14.00\" fill=\"#000000\">date_open_actual</text>\n</g>\n<!-- project&#45;&gt;scenario -->\n<g id=\"edge4\" class=\"edge\">\n<title>project:project_id&#45;&gt;scenario:project_id</title>\n<path fill=\"none\" stroke=\"#000000\" d=\"M118,-660.5C102.7778,-660.5 111.3458,-537.1908 118,-523.5 149.1321,-459.4469 212.8679,-488.5531 244,-424.5 252.1295,-407.7738 262.1406,-384.2952 253.6989,-375.7619\"/>\n<polygon fill=\"#000000\" stroke=\"#000000\" points=\"254.594,-372.3704 244,-372.5 252.3626,-379.0052 254.594,-372.3704\"/>\n</g>\n<!-- observations&#45;&gt;forecast -->\n<g id=\"edge2\" class=\"edge\">\n<title>observations:forecast_id&#45;&gt;forecast:forecast_id</title>\n<path fill=\"none\" stroke=\"#000000\" d=\"M92,-361.5C109.5,-361.5 97.9574,-220.4548 92,-204 84.9098,-184.4167 69.0902,-187.5833 62,-168 59.1418,-160.1056 54.6509,-150.3211 54.6961,-143.8814\"/>\n<polygon fill=\"#000000\" stroke=\"#000000\" points=\"57.1216,-146.4049 62,-137 52.3214,-141.31 57.1216,-146.4049\"/>\n</g>\n</g>\n</svg>\n"
          },
          "metadata": {
            "tags": []
          },
          "execution_count": 36
        }
      ]
    },
    {
      "metadata": {
        "id": "Tx7fM88DJbGU",
        "colab_type": "text"
      },
      "cell_type": "markdown",
      "source": [
        "## Locate Data"
      ]
    },
    {
      "metadata": {
        "id": "ZLcVSeZaZ8Oz",
        "colab_type": "code",
        "colab": {}
      },
      "cell_type": "code",
      "source": [
        "r = requests.get(repo_api)\n",
        "rj = r.json()"
      ],
      "execution_count": 0,
      "outputs": []
    },
    {
      "metadata": {
        "id": "UO7BVZj4ZpSl",
        "colab_type": "code",
        "colab": {
          "base_uri": "https://localhost:8080/",
          "height": 139
        },
        "outputId": "59df4f51-42c8-48b1-81d8-c1f8eeb126db"
      },
      "cell_type": "code",
      "source": [
        "card_locs = {\n",
        "           \"poi\": [],\n",
        "           \"scenario\": [],\n",
        "           \"project\": [],\n",
        "           \"observations\": [],\n",
        "           \"forecast\": [],\n",
        "    }\n",
        "\n",
        "## todo better regex matching by project\n",
        "for file in rj['tree']:\n",
        "  path_list = file['path'].split(\"/\")\n",
        "  \n",
        "  if len(path_list)>2 and path_list[0] in SUBDIRS and file['type']=='blob':\n",
        "      if path_list[-1][0:8].lower()==\"forecast\":\n",
        "          full_url = urljoin(repo_raw,file['path'])\n",
        "          print(\"adding\",full_url,\"to forecast\")\n",
        "          card_locs[\"forecast\"].append(full_url)\n",
        "      if path_list[-1][0:12].lower()==\"observations\":\n",
        "          full_url = urljoin(repo_raw,file['path'])\n",
        "          print(\"adding\",full_url,\"to observations\")\n",
        "          card_locs[\"observations\"].append(full_url)\n",
        "      if path_list[-1][0:3].lower()==\"poi\":\n",
        "          full_url = urljoin(repo_raw,file['path'])\n",
        "          print(\"adding\",full_url,\"to poi\")\n",
        "          card_locs[\"poi\"].append(full_url)          \n",
        "      if path_list[-1][0:7].lower()==\"project\":\n",
        "          full_url = urljoin(repo_raw,file['path'])\n",
        "          print(\"adding\",full_url,\"to project\")\n",
        "          card_locs[\"project\"].append(full_url)     \n",
        "      if path_list[-1][0:8].lower()==\"scenario\":\n",
        "          full_url = urljoin(repo_raw,file['path'])\n",
        "          print(\"adding\",full_url,\"to scenario\")\n",
        "          card_locs[\"scenario\"].append(full_url)   \n",
        "                    \n",
        "#card_locs\n"
      ],
      "execution_count": 38,
      "outputs": [
        {
          "output_type": "stream",
          "text": [
            "adding https://raw.github.com/e-lo/forecast-cards/master/examples/emeraldcitydot-rx123-yellowbrickroadhov/forecasts/forecast-A1-1960-1940-F1.csv to forecast\n",
            "adding https://raw.github.com/e-lo/forecast-cards/master/examples/emeraldcitydot-rx123-yellowbrickroadhov/observations/observations-1935.csv to observations\n",
            "adding https://raw.github.com/e-lo/forecast-cards/master/examples/emeraldcitydot-rx123-yellowbrickroadhov/observations/observations-1960.csv to observations\n",
            "adding https://raw.github.com/e-lo/forecast-cards/master/examples/emeraldcitydot-rx123-yellowbrickroadhov/poi-rx123.csv to poi\n",
            "adding https://raw.github.com/e-lo/forecast-cards/master/examples/emeraldcitydot-rx123-yellowbrickroadhov/project-rx123.csv to project\n",
            "adding https://raw.github.com/e-lo/forecast-cards/master/examples/emeraldcitydot-rx123-yellowbrickroadhov/scenarios-rx123.csv to scenario\n"
          ],
          "name": "stdout"
        }
      ]
    },
    {
      "metadata": {
        "id": "yfLByW--_qtB",
        "colab_type": "text"
      },
      "cell_type": "markdown",
      "source": [
        "## Validate Data Tables\n",
        "\n",
        "If errors found, try https://try.goodtables.io as a good GUI for identifying issues."
      ]
    },
    {
      "metadata": {
        "id": "xydLF5dMacMS",
        "colab_type": "code",
        "colab": {
          "base_uri": "https://localhost:8080/",
          "height": 102
        },
        "outputId": "5befa43a-3ae6-4e53-861f-8bd0983ece87"
      },
      "cell_type": "code",
      "source": [
        "from goodtables import validate\n",
        "reports={}\n",
        "for k,v in card_locs.items():\n",
        "  #print (\"validating\",k,v)\n",
        "  reports[k] = validate(card_locs[k][0],schema=requests.get(schemas_loc[k]).json())\n",
        "  if not reports[k]['valid']: \n",
        "    print (\"--->INVALID TABLE\", k)\n",
        "    reports[k]\n",
        "  else:\n",
        "    print (\"--->VALID\",k)"
      ],
      "execution_count": 39,
      "outputs": [
        {
          "output_type": "stream",
          "text": [
            "--->VALID poi\n",
            "--->INVALID TABLE scenario\n",
            "--->VALID project\n",
            "--->VALID observations\n",
            "--->VALID forecast\n"
          ],
          "name": "stdout"
        }
      ]
    },
    {
      "metadata": {
        "id": "oyoFV5Z4BZKA",
        "colab_type": "code",
        "colab": {
          "base_uri": "https://localhost:8080/",
          "height": 595
        },
        "outputId": "5133729a-aec9-4b05-d001-855b19e9dd92"
      },
      "cell_type": "code",
      "source": [
        "reports['scenario']"
      ],
      "execution_count": 40,
      "outputs": [
        {
          "output_type": "execute_result",
          "data": {
            "text/plain": [
              "{'error-count': 2,\n",
              " 'preset': 'table',\n",
              " 'table-count': 1,\n",
              " 'tables': [{'encoding': 'utf-8',\n",
              "   'error-count': 2,\n",
              "   'errors': [{'code': 'unique-constraint',\n",
              "     'column-number': 2,\n",
              "     'message': 'Rows 2, 3 has unique constraint violation in column 2',\n",
              "     'message-data': {'row_numbers': '2, 3'},\n",
              "     'row-number': 3},\n",
              "    {'code': 'unique-constraint',\n",
              "     'column-number': 2,\n",
              "     'message': 'Rows 2, 3, 4 has unique constraint violation in column 2',\n",
              "     'message-data': {'row_numbers': '2, 3, 4'},\n",
              "     'row-number': 4}],\n",
              "   'format': 'csv',\n",
              "   'headers': ['run_id',\n",
              "    'project_id',\n",
              "    'scenario_id',\n",
              "    'scenario_date',\n",
              "    'scenario_name',\n",
              "    'forecast_system',\n",
              "    'forecast_system_type',\n",
              "    'forecast_creation_date',\n",
              "    'forecaster_type'],\n",
              "   'row-count': 4,\n",
              "   'schema': 'table-schema',\n",
              "   'scheme': 'https',\n",
              "   'source': 'https://raw.github.com/e-lo/forecast-cards/master/examples/emeraldcitydot-rx123-yellowbrickroadhov/scenarios-rx123.csv',\n",
              "   'time': 0.303,\n",
              "   'valid': False}],\n",
              " 'time': 0.308,\n",
              " 'valid': False,\n",
              " 'warnings': []}"
            ]
          },
          "metadata": {
            "tags": []
          },
          "execution_count": 40
        }
      ]
    },
    {
      "metadata": {
        "id": "WIttUbJcQ-Y0",
        "colab_type": "text"
      },
      "cell_type": "markdown",
      "source": [
        "## Read data into Pandas Storage"
      ]
    },
    {
      "metadata": {
        "id": "zxIQ5BIquOaB",
        "colab_type": "text"
      },
      "cell_type": "markdown",
      "source": [
        "## Create Estimation File\n",
        "- ProjectID\t\n",
        "- SegmentID\t\n",
        "- CountID\n",
        "- InternalProjectID\t\n",
        "- CounterID\t\n",
        "- Station_Identifier\t\n",
        "- BriefDescription\t\n",
        "- ProjectYear\t\n",
        "- ImprovementType\t\n",
        "- AreaType\n",
        "- FuncClass\t\n",
        "- State\t\n",
        "- TollType\t\n",
        "- TrafficForecast\t\n",
        "- ForecastYear\t\n",
        "- ForecastYearType\t\n",
        "- YearForecastProduced\t\n",
        "- ForecastingAgency\t\n",
        "- ForecastMethodology\t\n",
        "- SegmentDescription\t\n",
        "- Year_ofObservation\t\n",
        "- FunctionalClass\n",
        "- Count\t\n",
        "\n"
      ]
    },
    {
      "metadata": {
        "id": "y0JsXNXbsFLQ",
        "colab_type": "code",
        "colab": {}
      },
      "cell_type": "code",
      "source": [
        "import pandas as pd\n",
        "project_df = pd.concat([pd.read_csv(f, parse_dates=['year_open_planned','year_horizon','date_open_actual'],infer_datetime_format=True) for f in card_locs[\"project\"]], ignore_index=True)\n",
        "scenario_df = pd.concat([pd.read_csv(f, parse_dates=['forecast_creation_date','scenario_date'],infer_datetime_format=True) for f in card_locs[\"scenario\"]], ignore_index=True)\n",
        "scenario_proj_df = scenario_df.merge(project_df, on='project_id', how='left')\n",
        "\n",
        "poi_df = pd.concat([pd.read_csv(f) for f in card_locs[\"poi\"]], ignore_index=True)\n",
        "observations_df = pd.concat([pd.read_csv(f, dtype={'obs_value':float}) for f in card_locs[\"observations\"]], ignore_index=True)\n",
        "observations_poi_df = observations_df.merge(poi_df, on='poi_id', how='left')\n",
        "\n",
        "forecast_df = pd.concat([pd.read_csv(f, dtype={'forecast_value':float}) for f in card_locs[\"forecast\"]], ignore_index=True)\n",
        "\n",
        "all_df = forecast_df.merge(observations_poi_df, on='forecast_match_id', how='left').merge(scenario_proj_df, on='run_id', how='left')\n"
      ],
      "execution_count": 0,
      "outputs": []
    },
    {
      "metadata": {
        "id": "My4aMxPRpYaY",
        "colab_type": "code",
        "colab": {
          "base_uri": "https://localhost:8080/",
          "height": 765
        },
        "outputId": "b93dafc2-80e5-4c41-faa8-7de91b6cf43e"
      },
      "cell_type": "code",
      "source": [
        "all_df.dtypes"
      ],
      "execution_count": 121,
      "outputs": [
        {
          "output_type": "execute_result",
          "data": {
            "text/plain": [
              "forecast_id_x                     object\n",
              "run_id                            object\n",
              "poi_id_x                          object\n",
              "forecast_match_id                 object\n",
              "start_time                        object\n",
              "end_time                          object\n",
              "forecast_variable                 object\n",
              "forecast_value                   float64\n",
              "equip_id                          object\n",
              "equip_type                        object\n",
              "forecast_id_y                    float64\n",
              "obs_date                          object\n",
              "obs_id                            object\n",
              "obs_value                        float64\n",
              "obs_variable                      object\n",
              "poi_id_y                          object\n",
              "time_end                          object\n",
              "time_start                        object\n",
              "poi_short_name                    object\n",
              "facility_name                     object\n",
              "start                             object\n",
              "end                               object\n",
              "area_type                         object\n",
              "facility_type                     object\n",
              "functional_class                  object\n",
              "features                          object\n",
              "state                             object\n",
              "jurisdiction                      object\n",
              "poi_description                   object\n",
              "project_id                        object\n",
              "scenario_id                       object\n",
              "scenario_date             datetime64[ns]\n",
              "scenario_name                     object\n",
              "forecast_system                   object\n",
              "forecast_system_type              object\n",
              "forecast_creation_date    datetime64[ns]\n",
              "forecaster_type                   object\n",
              "agency                            object\n",
              "description                       object\n",
              "project_type                      object\n",
              "year_open_planned         datetime64[ns]\n",
              "year_horizon              datetime64[ns]\n",
              "date_open_actual          datetime64[ns]\n",
              "dtype: object"
            ]
          },
          "metadata": {
            "tags": []
          },
          "execution_count": 121
        }
      ]
    },
    {
      "metadata": {
        "id": "QqJbBXJouNWq",
        "colab_type": "text"
      },
      "cell_type": "markdown",
      "source": [
        "## Clean data and create estimation file"
      ]
    },
    {
      "metadata": {
        "id": "5SbApzSBxSlC",
        "colab_type": "code",
        "colab": {
          "base_uri": "https://localhost:8080/",
          "height": 34
        },
        "outputId": "16316178-be3b-4939-fc1b-d2667b06b3c0"
      },
      "cell_type": "code",
      "source": [
        "# Only keep records that have all required variables\n",
        "REQUIRED_VARS = ['scenario_date','forecast_system_type','forecast_creation_date','forecast_value','forecast_value','obs_value', 'area_type', 'facility_type','state','project_type']\n",
        "usable_df= all_df.dropna(subset=REQUIRED_VARS)\n",
        "print(\"Kept\",len(usable_df),\"of\",len(all_df))\n"
      ],
      "execution_count": 122,
      "outputs": [
        {
          "output_type": "stream",
          "text": [
            "Kept 8 of 8\n"
          ],
          "name": "stdout"
        }
      ]
    },
    {
      "metadata": {
        "id": "Cb2RKB_4rE_T",
        "colab_type": "code",
        "colab": {
          "base_uri": "https://localhost:8080/",
          "height": 754
        },
        "outputId": "b453e89f-134c-46a1-e37e-9be0f03f3852"
      },
      "cell_type": "code",
      "source": [
        "usable_df"
      ],
      "execution_count": 123,
      "outputs": [
        {
          "output_type": "execute_result",
          "data": {
            "text/html": [
              "<div>\n",
              "<style scoped>\n",
              "    .dataframe tbody tr th:only-of-type {\n",
              "        vertical-align: middle;\n",
              "    }\n",
              "\n",
              "    .dataframe tbody tr th {\n",
              "        vertical-align: top;\n",
              "    }\n",
              "\n",
              "    .dataframe thead th {\n",
              "        text-align: right;\n",
              "    }\n",
              "</style>\n",
              "<table border=\"1\" class=\"dataframe\">\n",
              "  <thead>\n",
              "    <tr style=\"text-align: right;\">\n",
              "      <th></th>\n",
              "      <th>forecast_id_x</th>\n",
              "      <th>run_id</th>\n",
              "      <th>poi_id_x</th>\n",
              "      <th>forecast_match_id</th>\n",
              "      <th>start_time</th>\n",
              "      <th>end_time</th>\n",
              "      <th>forecast_variable</th>\n",
              "      <th>forecast_value</th>\n",
              "      <th>equip_id</th>\n",
              "      <th>equip_type</th>\n",
              "      <th>...</th>\n",
              "      <th>forecast_system</th>\n",
              "      <th>forecast_system_type</th>\n",
              "      <th>forecast_creation_date</th>\n",
              "      <th>forecaster_type</th>\n",
              "      <th>agency</th>\n",
              "      <th>description</th>\n",
              "      <th>project_type</th>\n",
              "      <th>year_open_planned</th>\n",
              "      <th>year_horizon</th>\n",
              "      <th>date_open_actual</th>\n",
              "    </tr>\n",
              "  </thead>\n",
              "  <tbody>\n",
              "    <tr>\n",
              "      <th>0</th>\n",
              "      <td>f1</td>\n",
              "      <td>r2</td>\n",
              "      <td>ybr-1-ib</td>\n",
              "      <td>f1</td>\n",
              "      <td>8:00:00</td>\n",
              "      <td>9:00:00</td>\n",
              "      <td>volume</td>\n",
              "      <td>456.0</td>\n",
              "      <td>e1</td>\n",
              "      <td>tube</td>\n",
              "      <td>...</td>\n",
              "      <td>the great OZ machine v1.2</td>\n",
              "      <td>pop-growth-rates</td>\n",
              "      <td>1937-03-03</td>\n",
              "      <td>consultant</td>\n",
              "      <td>Emerald City DOT</td>\n",
              "      <td>adding an HOV2 lane from Munchkin Land to the ...</td>\n",
              "      <td>hov</td>\n",
              "      <td>1939-01-01</td>\n",
              "      <td>1959-01-01</td>\n",
              "      <td>NaT</td>\n",
              "    </tr>\n",
              "    <tr>\n",
              "      <th>1</th>\n",
              "      <td>f2</td>\n",
              "      <td>r2</td>\n",
              "      <td>ybr-1-ib</td>\n",
              "      <td>f2</td>\n",
              "      <td>9:00:00</td>\n",
              "      <td>10:00:00</td>\n",
              "      <td>volume</td>\n",
              "      <td>456.0</td>\n",
              "      <td>e1</td>\n",
              "      <td>tube</td>\n",
              "      <td>...</td>\n",
              "      <td>the great OZ machine v1.2</td>\n",
              "      <td>pop-growth-rates</td>\n",
              "      <td>1937-03-03</td>\n",
              "      <td>consultant</td>\n",
              "      <td>Emerald City DOT</td>\n",
              "      <td>adding an HOV2 lane from Munchkin Land to the ...</td>\n",
              "      <td>hov</td>\n",
              "      <td>1939-01-01</td>\n",
              "      <td>1959-01-01</td>\n",
              "      <td>NaT</td>\n",
              "    </tr>\n",
              "    <tr>\n",
              "      <th>2</th>\n",
              "      <td>f3</td>\n",
              "      <td>r2</td>\n",
              "      <td>ybr-2-ib</td>\n",
              "      <td>f3</td>\n",
              "      <td>8:00:00</td>\n",
              "      <td>9:00:00</td>\n",
              "      <td>volume</td>\n",
              "      <td>500.0</td>\n",
              "      <td>e2</td>\n",
              "      <td>tube</td>\n",
              "      <td>...</td>\n",
              "      <td>the great OZ machine v1.2</td>\n",
              "      <td>pop-growth-rates</td>\n",
              "      <td>1937-03-03</td>\n",
              "      <td>consultant</td>\n",
              "      <td>Emerald City DOT</td>\n",
              "      <td>adding an HOV2 lane from Munchkin Land to the ...</td>\n",
              "      <td>hov</td>\n",
              "      <td>1939-01-01</td>\n",
              "      <td>1959-01-01</td>\n",
              "      <td>NaT</td>\n",
              "    </tr>\n",
              "    <tr>\n",
              "      <th>3</th>\n",
              "      <td>f4</td>\n",
              "      <td>r2</td>\n",
              "      <td>ybr-2-ib</td>\n",
              "      <td>f4</td>\n",
              "      <td>9:00:00</td>\n",
              "      <td>9:00:00</td>\n",
              "      <td>volume</td>\n",
              "      <td>512.0</td>\n",
              "      <td>e2</td>\n",
              "      <td>tube</td>\n",
              "      <td>...</td>\n",
              "      <td>the great OZ machine v1.2</td>\n",
              "      <td>pop-growth-rates</td>\n",
              "      <td>1937-03-03</td>\n",
              "      <td>consultant</td>\n",
              "      <td>Emerald City DOT</td>\n",
              "      <td>adding an HOV2 lane from Munchkin Land to the ...</td>\n",
              "      <td>hov</td>\n",
              "      <td>1939-01-01</td>\n",
              "      <td>1959-01-01</td>\n",
              "      <td>NaT</td>\n",
              "    </tr>\n",
              "    <tr>\n",
              "      <th>4</th>\n",
              "      <td>f5</td>\n",
              "      <td>r3</td>\n",
              "      <td>ybr-1-ib</td>\n",
              "      <td>f1</td>\n",
              "      <td>8:00:00</td>\n",
              "      <td>9:00:00</td>\n",
              "      <td>volume</td>\n",
              "      <td>500.0</td>\n",
              "      <td>e1</td>\n",
              "      <td>tube</td>\n",
              "      <td>...</td>\n",
              "      <td>the great OZ machine v1.5</td>\n",
              "      <td>travel-model</td>\n",
              "      <td>1940-02-02</td>\n",
              "      <td>consultant</td>\n",
              "      <td>Emerald City DOT</td>\n",
              "      <td>adding an HOV2 lane from Munchkin Land to the ...</td>\n",
              "      <td>hov</td>\n",
              "      <td>1939-01-01</td>\n",
              "      <td>1959-01-01</td>\n",
              "      <td>NaT</td>\n",
              "    </tr>\n",
              "    <tr>\n",
              "      <th>5</th>\n",
              "      <td>f6</td>\n",
              "      <td>r3</td>\n",
              "      <td>ybr-1-ib</td>\n",
              "      <td>f2</td>\n",
              "      <td>9:00:00</td>\n",
              "      <td>10:00:00</td>\n",
              "      <td>volume</td>\n",
              "      <td>602.0</td>\n",
              "      <td>e1</td>\n",
              "      <td>tube</td>\n",
              "      <td>...</td>\n",
              "      <td>the great OZ machine v1.5</td>\n",
              "      <td>travel-model</td>\n",
              "      <td>1940-02-02</td>\n",
              "      <td>consultant</td>\n",
              "      <td>Emerald City DOT</td>\n",
              "      <td>adding an HOV2 lane from Munchkin Land to the ...</td>\n",
              "      <td>hov</td>\n",
              "      <td>1939-01-01</td>\n",
              "      <td>1959-01-01</td>\n",
              "      <td>NaT</td>\n",
              "    </tr>\n",
              "    <tr>\n",
              "      <th>6</th>\n",
              "      <td>f7</td>\n",
              "      <td>r3</td>\n",
              "      <td>ybr-2-ib</td>\n",
              "      <td>f3</td>\n",
              "      <td>8:00:00</td>\n",
              "      <td>9:00:00</td>\n",
              "      <td>volume</td>\n",
              "      <td>448.0</td>\n",
              "      <td>e2</td>\n",
              "      <td>tube</td>\n",
              "      <td>...</td>\n",
              "      <td>the great OZ machine v1.5</td>\n",
              "      <td>travel-model</td>\n",
              "      <td>1940-02-02</td>\n",
              "      <td>consultant</td>\n",
              "      <td>Emerald City DOT</td>\n",
              "      <td>adding an HOV2 lane from Munchkin Land to the ...</td>\n",
              "      <td>hov</td>\n",
              "      <td>1939-01-01</td>\n",
              "      <td>1959-01-01</td>\n",
              "      <td>NaT</td>\n",
              "    </tr>\n",
              "    <tr>\n",
              "      <th>7</th>\n",
              "      <td>f8</td>\n",
              "      <td>r3</td>\n",
              "      <td>ybr-2-ib</td>\n",
              "      <td>f4</td>\n",
              "      <td>9:00:00</td>\n",
              "      <td>9:00:00</td>\n",
              "      <td>volume</td>\n",
              "      <td>510.0</td>\n",
              "      <td>e2</td>\n",
              "      <td>tube</td>\n",
              "      <td>...</td>\n",
              "      <td>the great OZ machine v1.5</td>\n",
              "      <td>travel-model</td>\n",
              "      <td>1940-02-02</td>\n",
              "      <td>consultant</td>\n",
              "      <td>Emerald City DOT</td>\n",
              "      <td>adding an HOV2 lane from Munchkin Land to the ...</td>\n",
              "      <td>hov</td>\n",
              "      <td>1939-01-01</td>\n",
              "      <td>1959-01-01</td>\n",
              "      <td>NaT</td>\n",
              "    </tr>\n",
              "  </tbody>\n",
              "</table>\n",
              "<p>8 rows × 43 columns</p>\n",
              "</div>"
            ],
            "text/plain": [
              "  forecast_id_x run_id  poi_id_x forecast_match_id start_time  end_time  \\\n",
              "0            f1     r2  ybr-1-ib                f1    8:00:00   9:00:00   \n",
              "1            f2     r2  ybr-1-ib                f2    9:00:00  10:00:00   \n",
              "2            f3     r2  ybr-2-ib                f3    8:00:00   9:00:00   \n",
              "3            f4     r2  ybr-2-ib                f4    9:00:00   9:00:00   \n",
              "4            f5     r3  ybr-1-ib                f1    8:00:00   9:00:00   \n",
              "5            f6     r3  ybr-1-ib                f2    9:00:00  10:00:00   \n",
              "6            f7     r3  ybr-2-ib                f3    8:00:00   9:00:00   \n",
              "7            f8     r3  ybr-2-ib                f4    9:00:00   9:00:00   \n",
              "\n",
              "  forecast_variable  forecast_value equip_id equip_type       ...         \\\n",
              "0            volume           456.0       e1       tube       ...          \n",
              "1            volume           456.0       e1       tube       ...          \n",
              "2            volume           500.0       e2       tube       ...          \n",
              "3            volume           512.0       e2       tube       ...          \n",
              "4            volume           500.0       e1       tube       ...          \n",
              "5            volume           602.0       e1       tube       ...          \n",
              "6            volume           448.0       e2       tube       ...          \n",
              "7            volume           510.0       e2       tube       ...          \n",
              "\n",
              "             forecast_system forecast_system_type forecast_creation_date  \\\n",
              "0  the great OZ machine v1.2     pop-growth-rates             1937-03-03   \n",
              "1  the great OZ machine v1.2     pop-growth-rates             1937-03-03   \n",
              "2  the great OZ machine v1.2     pop-growth-rates             1937-03-03   \n",
              "3  the great OZ machine v1.2     pop-growth-rates             1937-03-03   \n",
              "4  the great OZ machine v1.5         travel-model             1940-02-02   \n",
              "5  the great OZ machine v1.5         travel-model             1940-02-02   \n",
              "6  the great OZ machine v1.5         travel-model             1940-02-02   \n",
              "7  the great OZ machine v1.5         travel-model             1940-02-02   \n",
              "\n",
              "   forecaster_type            agency  \\\n",
              "0       consultant  Emerald City DOT   \n",
              "1       consultant  Emerald City DOT   \n",
              "2       consultant  Emerald City DOT   \n",
              "3       consultant  Emerald City DOT   \n",
              "4       consultant  Emerald City DOT   \n",
              "5       consultant  Emerald City DOT   \n",
              "6       consultant  Emerald City DOT   \n",
              "7       consultant  Emerald City DOT   \n",
              "\n",
              "                                         description project_type  \\\n",
              "0  adding an HOV2 lane from Munchkin Land to the ...          hov   \n",
              "1  adding an HOV2 lane from Munchkin Land to the ...          hov   \n",
              "2  adding an HOV2 lane from Munchkin Land to the ...          hov   \n",
              "3  adding an HOV2 lane from Munchkin Land to the ...          hov   \n",
              "4  adding an HOV2 lane from Munchkin Land to the ...          hov   \n",
              "5  adding an HOV2 lane from Munchkin Land to the ...          hov   \n",
              "6  adding an HOV2 lane from Munchkin Land to the ...          hov   \n",
              "7  adding an HOV2 lane from Munchkin Land to the ...          hov   \n",
              "\n",
              "  year_open_planned year_horizon date_open_actual  \n",
              "0        1939-01-01   1959-01-01              NaT  \n",
              "1        1939-01-01   1959-01-01              NaT  \n",
              "2        1939-01-01   1959-01-01              NaT  \n",
              "3        1939-01-01   1959-01-01              NaT  \n",
              "4        1939-01-01   1959-01-01              NaT  \n",
              "5        1939-01-01   1959-01-01              NaT  \n",
              "6        1939-01-01   1959-01-01              NaT  \n",
              "7        1939-01-01   1959-01-01              NaT  \n",
              "\n",
              "[8 rows x 43 columns]"
            ]
          },
          "metadata": {
            "tags": []
          },
          "execution_count": 123
        }
      ]
    },
    {
      "metadata": {
        "id": "5pf5awAIrFsw",
        "colab_type": "code",
        "colab": {}
      },
      "cell_type": "code",
      "source": [
        "AdjustedForecast_over30k\n",
        "       + Scale_UnemploymentRate_YearProduced\n",
        "       + Scale_DiffYear\n",
        "       + Scale_IT_NewRoad\n",
        "       + Scale_FM_TravelModel\n",
        "       + Scale_FC_Arterial\n",
        "       + Scale_FC_CollectorLocal\n",
        "        df[\"Scale_UnemploymentRate_OpeningYear\"] = df[\"UnemploymentRate_OpeningYear\"] * df[\"AdjustedForecast\"]"
      ],
      "execution_count": 0,
      "outputs": []
    },
    {
      "metadata": {
        "id": "HLZF0ala1gOg",
        "colab_type": "code",
        "colab": {}
      },
      "cell_type": "code",
      "source": [
        "## create each of the decades\n",
        "usable_df['creation_decade'] = (usable_df['forecast_creation_date'].apply(lambda x: x.year//10*10)).astype('category')\n",
        "usable_df['scenario_decade'] = (usable_df['scenario_date'].apply(lambda x: x.year//10*10)).astype('category')\n",
        "\n",
        "## create large projects dummy\n",
        "breakpoint = 30000\n",
        "bins = [usable_df['forecast_value'].min(), breakpoint, breakpoint+usable_df['forecast_value'].max()]\n",
        "labels = [\"small_project\",\"large_project\"]\n",
        "usable_df['project_size'] = pd.cut(usable_df['forecast_value'], bins=bins, labels=labels)\n",
        "#usable_df"
      ],
      "execution_count": 0,
      "outputs": []
    },
    {
      "metadata": {
        "id": "DeyRPKhYwZj_",
        "colab_type": "code",
        "colab": {
          "base_uri": "https://localhost:8080/",
          "height": 187
        },
        "outputId": "00395bd4-4061-4ea7-9058-d4f9c7defe60"
      },
      "cell_type": "code",
      "source": [
        "## Create dummy variables \n",
        "categorical_cols = ['project_size','creation_decade','scenario_decade','functional_class','forecast_system_type','project_type','agency','forecaster_type','area_type','facility_type','state']\n",
        "dummy_df = pd.get_dummies(usable_df[categorical_cols])\n",
        "usable_dummy_df = pd.concat([usable_df[[v for v in REQUIRED_VARS if v not in categorical_cols]],dummy_df],axis=1)\n",
        "usable_dummy_df.columns\n"
      ],
      "execution_count": 186,
      "outputs": [
        {
          "output_type": "execute_result",
          "data": {
            "text/plain": [
              "Index(['scenario_date', 'forecast_creation_date', 'forecast_value',\n",
              "       'forecast_value', 'obs_value', 'project_size_small_project',\n",
              "       'project_size_large_project', 'creation_decade_1930',\n",
              "       'creation_decade_1940', 'scenario_decade_1960',\n",
              "       'functional_class_ Minor Arterial', 'functional_class_Minor Arterial',\n",
              "       'forecast_system_type_pop-growth-rates',\n",
              "       'forecast_system_type_travel-model', 'project_type_hov',\n",
              "       'agency_Emerald City DOT', 'forecaster_type_consultant',\n",
              "       'area_type_ rural', 'facility_type_ road', 'state_ OZ'],\n",
              "      dtype='object')"
            ]
          },
          "metadata": {
            "tags": []
          },
          "execution_count": 186
        }
      ]
    },
    {
      "metadata": {
        "id": "FZPtEJBt1e8I",
        "colab_type": "code",
        "colab": {}
      },
      "cell_type": "code",
      "source": [
        ""
      ],
      "execution_count": 0,
      "outputs": []
    },
    {
      "metadata": {
        "id": "kCcsv2VPzmTY",
        "colab_type": "code",
        "colab": {
          "base_uri": "https://localhost:8080/",
          "height": 334
        },
        "outputId": "68f43dd7-80fd-4f44-e1f4-aa3715d4a9ae"
      },
      "cell_type": "code",
      "source": [
        "#usable_dummy_df \n",
        "##TODO, not currently working\n",
        "scaled_df = usable_dummy_df.mul(usable_dummy_df['forecast_value'], axis=0)\n",
        "#scaled_df \n"
      ],
      "execution_count": 177,
      "outputs": [
        {
          "output_type": "execute_result",
          "data": {
            "text/html": [
              "<div>\n",
              "<style scoped>\n",
              "    .dataframe tbody tr th:only-of-type {\n",
              "        vertical-align: middle;\n",
              "    }\n",
              "\n",
              "    .dataframe tbody tr th {\n",
              "        vertical-align: top;\n",
              "    }\n",
              "\n",
              "    .dataframe thead th {\n",
              "        text-align: right;\n",
              "    }\n",
              "</style>\n",
              "<table border=\"1\" class=\"dataframe\">\n",
              "  <thead>\n",
              "    <tr style=\"text-align: right;\">\n",
              "      <th></th>\n",
              "      <th>agency_Emerald City DOT</th>\n",
              "      <th>area_type_ rural</th>\n",
              "      <th>creation_decade_1930</th>\n",
              "      <th>creation_decade_1940</th>\n",
              "      <th>facility_type_ road</th>\n",
              "      <th>forecast_creation_date</th>\n",
              "      <th>forecast_system_type_pop-growth-rates</th>\n",
              "      <th>forecast_system_type_travel-model</th>\n",
              "      <th>forecast_value</th>\n",
              "      <th>forecast_value</th>\n",
              "      <th>forecast_value</th>\n",
              "      <th>forecast_value</th>\n",
              "      <th>forecaster_type_consultant</th>\n",
              "      <th>functional_class_ Minor Arterial</th>\n",
              "      <th>functional_class_Minor Arterial</th>\n",
              "      <th>obs_value</th>\n",
              "      <th>project_type_hov</th>\n",
              "      <th>scenario_date</th>\n",
              "      <th>scenario_decade_1960</th>\n",
              "      <th>state_ OZ</th>\n",
              "    </tr>\n",
              "  </thead>\n",
              "  <tbody>\n",
              "    <tr>\n",
              "      <th>0</th>\n",
              "      <td>NaN</td>\n",
              "      <td>NaN</td>\n",
              "      <td>NaN</td>\n",
              "      <td>NaN</td>\n",
              "      <td>NaN</td>\n",
              "      <td>NaN</td>\n",
              "      <td>NaN</td>\n",
              "      <td>NaN</td>\n",
              "      <td>207936.0</td>\n",
              "      <td>207936.0</td>\n",
              "      <td>207936.0</td>\n",
              "      <td>207936.0</td>\n",
              "      <td>NaN</td>\n",
              "      <td>NaN</td>\n",
              "      <td>NaN</td>\n",
              "      <td>NaN</td>\n",
              "      <td>NaN</td>\n",
              "      <td>NaN</td>\n",
              "      <td>NaN</td>\n",
              "      <td>NaN</td>\n",
              "    </tr>\n",
              "    <tr>\n",
              "      <th>1</th>\n",
              "      <td>NaN</td>\n",
              "      <td>NaN</td>\n",
              "      <td>NaN</td>\n",
              "      <td>NaN</td>\n",
              "      <td>NaN</td>\n",
              "      <td>NaN</td>\n",
              "      <td>NaN</td>\n",
              "      <td>NaN</td>\n",
              "      <td>207936.0</td>\n",
              "      <td>207936.0</td>\n",
              "      <td>207936.0</td>\n",
              "      <td>207936.0</td>\n",
              "      <td>NaN</td>\n",
              "      <td>NaN</td>\n",
              "      <td>NaN</td>\n",
              "      <td>NaN</td>\n",
              "      <td>NaN</td>\n",
              "      <td>NaN</td>\n",
              "      <td>NaN</td>\n",
              "      <td>NaN</td>\n",
              "    </tr>\n",
              "    <tr>\n",
              "      <th>2</th>\n",
              "      <td>NaN</td>\n",
              "      <td>NaN</td>\n",
              "      <td>NaN</td>\n",
              "      <td>NaN</td>\n",
              "      <td>NaN</td>\n",
              "      <td>NaN</td>\n",
              "      <td>NaN</td>\n",
              "      <td>NaN</td>\n",
              "      <td>250000.0</td>\n",
              "      <td>250000.0</td>\n",
              "      <td>250000.0</td>\n",
              "      <td>250000.0</td>\n",
              "      <td>NaN</td>\n",
              "      <td>NaN</td>\n",
              "      <td>NaN</td>\n",
              "      <td>NaN</td>\n",
              "      <td>NaN</td>\n",
              "      <td>NaN</td>\n",
              "      <td>NaN</td>\n",
              "      <td>NaN</td>\n",
              "    </tr>\n",
              "    <tr>\n",
              "      <th>3</th>\n",
              "      <td>NaN</td>\n",
              "      <td>NaN</td>\n",
              "      <td>NaN</td>\n",
              "      <td>NaN</td>\n",
              "      <td>NaN</td>\n",
              "      <td>NaN</td>\n",
              "      <td>NaN</td>\n",
              "      <td>NaN</td>\n",
              "      <td>262144.0</td>\n",
              "      <td>262144.0</td>\n",
              "      <td>262144.0</td>\n",
              "      <td>262144.0</td>\n",
              "      <td>NaN</td>\n",
              "      <td>NaN</td>\n",
              "      <td>NaN</td>\n",
              "      <td>NaN</td>\n",
              "      <td>NaN</td>\n",
              "      <td>NaN</td>\n",
              "      <td>NaN</td>\n",
              "      <td>NaN</td>\n",
              "    </tr>\n",
              "    <tr>\n",
              "      <th>4</th>\n",
              "      <td>NaN</td>\n",
              "      <td>NaN</td>\n",
              "      <td>NaN</td>\n",
              "      <td>NaN</td>\n",
              "      <td>NaN</td>\n",
              "      <td>NaN</td>\n",
              "      <td>NaN</td>\n",
              "      <td>NaN</td>\n",
              "      <td>250000.0</td>\n",
              "      <td>250000.0</td>\n",
              "      <td>250000.0</td>\n",
              "      <td>250000.0</td>\n",
              "      <td>NaN</td>\n",
              "      <td>NaN</td>\n",
              "      <td>NaN</td>\n",
              "      <td>NaN</td>\n",
              "      <td>NaN</td>\n",
              "      <td>NaN</td>\n",
              "      <td>NaN</td>\n",
              "      <td>NaN</td>\n",
              "    </tr>\n",
              "    <tr>\n",
              "      <th>5</th>\n",
              "      <td>NaN</td>\n",
              "      <td>NaN</td>\n",
              "      <td>NaN</td>\n",
              "      <td>NaN</td>\n",
              "      <td>NaN</td>\n",
              "      <td>NaN</td>\n",
              "      <td>NaN</td>\n",
              "      <td>NaN</td>\n",
              "      <td>362404.0</td>\n",
              "      <td>362404.0</td>\n",
              "      <td>362404.0</td>\n",
              "      <td>362404.0</td>\n",
              "      <td>NaN</td>\n",
              "      <td>NaN</td>\n",
              "      <td>NaN</td>\n",
              "      <td>NaN</td>\n",
              "      <td>NaN</td>\n",
              "      <td>NaN</td>\n",
              "      <td>NaN</td>\n",
              "      <td>NaN</td>\n",
              "    </tr>\n",
              "    <tr>\n",
              "      <th>6</th>\n",
              "      <td>NaN</td>\n",
              "      <td>NaN</td>\n",
              "      <td>NaN</td>\n",
              "      <td>NaN</td>\n",
              "      <td>NaN</td>\n",
              "      <td>NaN</td>\n",
              "      <td>NaN</td>\n",
              "      <td>NaN</td>\n",
              "      <td>200704.0</td>\n",
              "      <td>200704.0</td>\n",
              "      <td>200704.0</td>\n",
              "      <td>200704.0</td>\n",
              "      <td>NaN</td>\n",
              "      <td>NaN</td>\n",
              "      <td>NaN</td>\n",
              "      <td>NaN</td>\n",
              "      <td>NaN</td>\n",
              "      <td>NaN</td>\n",
              "      <td>NaN</td>\n",
              "      <td>NaN</td>\n",
              "    </tr>\n",
              "    <tr>\n",
              "      <th>7</th>\n",
              "      <td>NaN</td>\n",
              "      <td>NaN</td>\n",
              "      <td>NaN</td>\n",
              "      <td>NaN</td>\n",
              "      <td>NaN</td>\n",
              "      <td>NaN</td>\n",
              "      <td>NaN</td>\n",
              "      <td>NaN</td>\n",
              "      <td>260100.0</td>\n",
              "      <td>260100.0</td>\n",
              "      <td>260100.0</td>\n",
              "      <td>260100.0</td>\n",
              "      <td>NaN</td>\n",
              "      <td>NaN</td>\n",
              "      <td>NaN</td>\n",
              "      <td>NaN</td>\n",
              "      <td>NaN</td>\n",
              "      <td>NaN</td>\n",
              "      <td>NaN</td>\n",
              "      <td>NaN</td>\n",
              "    </tr>\n",
              "  </tbody>\n",
              "</table>\n",
              "</div>"
            ],
            "text/plain": [
              "   agency_Emerald City DOT  area_type_ rural  creation_decade_1930  \\\n",
              "0                      NaN               NaN                   NaN   \n",
              "1                      NaN               NaN                   NaN   \n",
              "2                      NaN               NaN                   NaN   \n",
              "3                      NaN               NaN                   NaN   \n",
              "4                      NaN               NaN                   NaN   \n",
              "5                      NaN               NaN                   NaN   \n",
              "6                      NaN               NaN                   NaN   \n",
              "7                      NaN               NaN                   NaN   \n",
              "\n",
              "   creation_decade_1940  facility_type_ road forecast_creation_date  \\\n",
              "0                   NaN                  NaN                    NaN   \n",
              "1                   NaN                  NaN                    NaN   \n",
              "2                   NaN                  NaN                    NaN   \n",
              "3                   NaN                  NaN                    NaN   \n",
              "4                   NaN                  NaN                    NaN   \n",
              "5                   NaN                  NaN                    NaN   \n",
              "6                   NaN                  NaN                    NaN   \n",
              "7                   NaN                  NaN                    NaN   \n",
              "\n",
              "   forecast_system_type_pop-growth-rates  forecast_system_type_travel-model  \\\n",
              "0                                    NaN                                NaN   \n",
              "1                                    NaN                                NaN   \n",
              "2                                    NaN                                NaN   \n",
              "3                                    NaN                                NaN   \n",
              "4                                    NaN                                NaN   \n",
              "5                                    NaN                                NaN   \n",
              "6                                    NaN                                NaN   \n",
              "7                                    NaN                                NaN   \n",
              "\n",
              "   forecast_value  forecast_value  forecast_value  forecast_value  \\\n",
              "0        207936.0        207936.0        207936.0        207936.0   \n",
              "1        207936.0        207936.0        207936.0        207936.0   \n",
              "2        250000.0        250000.0        250000.0        250000.0   \n",
              "3        262144.0        262144.0        262144.0        262144.0   \n",
              "4        250000.0        250000.0        250000.0        250000.0   \n",
              "5        362404.0        362404.0        362404.0        362404.0   \n",
              "6        200704.0        200704.0        200704.0        200704.0   \n",
              "7        260100.0        260100.0        260100.0        260100.0   \n",
              "\n",
              "   forecaster_type_consultant  functional_class_ Minor Arterial  \\\n",
              "0                         NaN                               NaN   \n",
              "1                         NaN                               NaN   \n",
              "2                         NaN                               NaN   \n",
              "3                         NaN                               NaN   \n",
              "4                         NaN                               NaN   \n",
              "5                         NaN                               NaN   \n",
              "6                         NaN                               NaN   \n",
              "7                         NaN                               NaN   \n",
              "\n",
              "   functional_class_Minor Arterial  obs_value  project_type_hov scenario_date  \\\n",
              "0                              NaN        NaN               NaN           NaN   \n",
              "1                              NaN        NaN               NaN           NaN   \n",
              "2                              NaN        NaN               NaN           NaN   \n",
              "3                              NaN        NaN               NaN           NaN   \n",
              "4                              NaN        NaN               NaN           NaN   \n",
              "5                              NaN        NaN               NaN           NaN   \n",
              "6                              NaN        NaN               NaN           NaN   \n",
              "7                              NaN        NaN               NaN           NaN   \n",
              "\n",
              "   scenario_decade_1960  state_ OZ  \n",
              "0                   NaN        NaN  \n",
              "1                   NaN        NaN  \n",
              "2                   NaN        NaN  \n",
              "3                   NaN        NaN  \n",
              "4                   NaN        NaN  \n",
              "5                   NaN        NaN  \n",
              "6                   NaN        NaN  \n",
              "7                   NaN        NaN  "
            ]
          },
          "metadata": {
            "tags": []
          },
          "execution_count": 177
        }
      ]
    },
    {
      "metadata": {
        "id": "LFimfUa-rGHJ",
        "colab_type": "text"
      },
      "cell_type": "markdown",
      "source": [
        "## Estimate Quantiles\n",
        "\n",
        "With understanding that GDE noted that this package doesn't work right..."
      ]
    },
    {
      "metadata": {
        "id": "jWZy6vtRiqTj",
        "colab_type": "code",
        "colab": {
          "base_uri": "https://localhost:8080/",
          "height": 564
        },
        "outputId": "eab526ce-5b7f-4d95-ee36-3969112f3c6b"
      },
      "cell_type": "code",
      "source": [
        "import statsmodels.formula.api as smf\n",
        "mod = smf.quantreg('obs_value ~ forecast_value', usable_df)\n",
        "res = mod.fit(q=.5)\n",
        "print(res.summary())"
      ],
      "execution_count": 125,
      "outputs": [
        {
          "output_type": "stream",
          "text": [
            "                         QuantReg Regression Results                          \n",
            "==============================================================================\n",
            "Dep. Variable:              obs_value   Pseudo R-squared:                 -inf\n",
            "Model:                       QuantReg   Bandwidth:                       0.000\n",
            "Method:                 Least Squares   Sparsity:                          nan\n",
            "Date:                Thu, 15 Nov 2018   No. Observations:                    8\n",
            "Time:                        23:40:24   Df Residuals:                        6\n",
            "                                        Df Model:                            1\n",
            "==================================================================================\n",
            "                     coef    std err          t      P>|t|      [0.025      0.975]\n",
            "----------------------------------------------------------------------------------\n",
            "Intercept        600.0000        nan        nan        nan         nan         nan\n",
            "forecast_value -1.157e-11        nan        nan        nan         nan         nan\n",
            "==================================================================================\n",
            "\n",
            "The condition number is large, 5.4e+03. This might indicate that there are\n",
            "strong multicollinearity or other numerical problems.\n"
          ],
          "name": "stdout"
        },
        {
          "output_type": "stream",
          "text": [
            "/usr/local/lib/python3.6/dist-packages/statsmodels/regression/quantile_regression.py:204: RuntimeWarning: divide by zero encountered in double_scalars\n",
            "  fhat0 = 1. / (nobs * h) * np.sum(kernel(e / h))\n",
            "/usr/local/lib/python3.6/dist-packages/statsmodels/regression/quantile_regression.py:204: RuntimeWarning: divide by zero encountered in true_divide\n",
            "  fhat0 = 1. / (nobs * h) * np.sum(kernel(e / h))\n",
            "/usr/local/lib/python3.6/dist-packages/statsmodels/regression/quantile_regression.py:237: RuntimeWarning: invalid value encountered in multiply\n",
            "  kernels['epa'] = lambda u: 3. / 4 * (1-u**2) * np.where(np.abs(u) <= 1, 1, 0)\n",
            "/usr/local/lib/python3.6/dist-packages/statsmodels/regression/quantile_regression.py:279: RuntimeWarning: divide by zero encountered in double_scalars\n",
            "  return 1 - np.sum(e) / np.sum(ered)\n",
            "/usr/local/lib/python3.6/dist-packages/scipy/stats/_distn_infrastructure.py:879: RuntimeWarning: invalid value encountered in greater\n",
            "  return (self.a < x) & (x < self.b)\n",
            "/usr/local/lib/python3.6/dist-packages/scipy/stats/_distn_infrastructure.py:879: RuntimeWarning: invalid value encountered in less\n",
            "  return (self.a < x) & (x < self.b)\n",
            "/usr/local/lib/python3.6/dist-packages/scipy/stats/_distn_infrastructure.py:1821: RuntimeWarning: invalid value encountered in less_equal\n",
            "  cond2 = cond0 & (x <= self.a)\n"
          ],
          "name": "stderr"
        }
      ]
    },
    {
      "metadata": {
        "id": "VtF4bBpNryc-",
        "colab_type": "code",
        "colab": {
          "base_uri": "https://localhost:8080/",
          "height": 544
        },
        "outputId": "2abf3b4a-c51c-4410-c029-460454e2bda2"
      },
      "cell_type": "code",
      "source": [
        "lm = smf.ols('obs_value ~ forecast_value', data=usable_df).fit()\n",
        "\n",
        "print (lm.summary())"
      ],
      "execution_count": 126,
      "outputs": [
        {
          "output_type": "stream",
          "text": [
            "                            OLS Regression Results                            \n",
            "==============================================================================\n",
            "Dep. Variable:              obs_value   R-squared:                        -inf\n",
            "Model:                            OLS   Adj. R-squared:                   -inf\n",
            "Method:                 Least Squares   F-statistic:                    -6.000\n",
            "Date:                Thu, 15 Nov 2018   Prob (F-statistic):               1.00\n",
            "Time:                        23:40:31   Log-Likelihood:                 221.55\n",
            "No. Observations:                   8   AIC:                            -439.1\n",
            "Df Residuals:                       6   BIC:                            -438.9\n",
            "Df Model:                           1                                         \n",
            "Covariance Type:            nonrobust                                         \n",
            "==================================================================================\n",
            "                     coef    std err          t      P>|t|      [0.025      0.975]\n",
            "----------------------------------------------------------------------------------\n",
            "Intercept        600.0000      1e-12   5.99e+14      0.000     600.000     600.000\n",
            "forecast_value          0      2e-15          0      1.000    -4.9e-15     4.9e-15\n",
            "==============================================================================\n",
            "Omnibus:                      154.682   Durbin-Watson:                   0.000\n",
            "Prob(Omnibus):                  0.000   Jarque-Bera (JB):                3.000\n",
            "Skew:                           0.000   Prob(JB):                        0.223\n",
            "Kurtosis:                       0.000   Cond. No.                     5.40e+03\n",
            "==============================================================================\n",
            "\n",
            "Warnings:\n",
            "[1] Standard Errors assume that the covariance matrix of the errors is correctly specified.\n",
            "[2] The condition number is large, 5.4e+03. This might indicate that there are\n",
            "strong multicollinearity or other numerical problems.\n"
          ],
          "name": "stdout"
        },
        {
          "output_type": "stream",
          "text": [
            "/usr/local/lib/python3.6/dist-packages/scipy/stats/stats.py:1394: UserWarning: kurtosistest only valid for n>=20 ... continuing anyway, n=8\n",
            "  \"anyway, n=%i\" % int(n))\n",
            "/usr/local/lib/python3.6/dist-packages/statsmodels/regression/linear_model.py:1386: RuntimeWarning: divide by zero encountered in double_scalars\n",
            "  return 1 - self.ssr/self.centered_tss\n"
          ],
          "name": "stderr"
        }
      ]
    },
    {
      "metadata": {
        "id": "9WWH4s1WoUe0",
        "colab_type": "code",
        "colab": {
          "base_uri": "https://localhost:8080/",
          "height": 462
        },
        "outputId": "5fa55bfd-eacc-4a21-faf8-554c49d755e0"
      },
      "cell_type": "code",
      "source": [
        "print(res.summary())"
      ],
      "execution_count": 109,
      "outputs": [
        {
          "output_type": "stream",
          "text": [
            "                         QuantReg Regression Results                          \n",
            "==============================================================================\n",
            "Dep. Variable:              obs_value   Pseudo R-squared:                 -inf\n",
            "Model:                       QuantReg   Bandwidth:                       0.000\n",
            "Method:                 Least Squares   Sparsity:                          nan\n",
            "Date:                Thu, 15 Nov 2018   No. Observations:                    8\n",
            "Time:                        23:18:09   Df Residuals:                        6\n",
            "                                        Df Model:                            1\n",
            "==================================================================================\n",
            "                     coef    std err          t      P>|t|      [0.025      0.975]\n",
            "----------------------------------------------------------------------------------\n",
            "Intercept        600.0000        nan        nan        nan         nan         nan\n",
            "forecast_value -1.157e-11        nan        nan        nan         nan         nan\n",
            "==================================================================================\n",
            "\n",
            "The condition number is large, 5.4e+03. This might indicate that there are\n",
            "strong multicollinearity or other numerical problems.\n"
          ],
          "name": "stdout"
        },
        {
          "output_type": "stream",
          "text": [
            "/usr/local/lib/python3.6/dist-packages/statsmodels/regression/quantile_regression.py:279: RuntimeWarning: divide by zero encountered in double_scalars\n",
            "  return 1 - np.sum(e) / np.sum(ered)\n",
            "/usr/local/lib/python3.6/dist-packages/scipy/stats/_distn_infrastructure.py:879: RuntimeWarning: invalid value encountered in greater\n",
            "  return (self.a < x) & (x < self.b)\n",
            "/usr/local/lib/python3.6/dist-packages/scipy/stats/_distn_infrastructure.py:879: RuntimeWarning: invalid value encountered in less\n",
            "  return (self.a < x) & (x < self.b)\n",
            "/usr/local/lib/python3.6/dist-packages/scipy/stats/_distn_infrastructure.py:1821: RuntimeWarning: invalid value encountered in less_equal\n",
            "  cond2 = cond0 & (x <= self.a)\n"
          ],
          "name": "stderr"
        }
      ]
    },
    {
      "metadata": {
        "id": "exqM74bgquX5",
        "colab_type": "code",
        "colab": {
          "base_uri": "https://localhost:8080/",
          "height": 34
        },
        "outputId": "4a554b09-c6e3-483f-ca0b-a482a24aa1e5"
      },
      "cell_type": "code",
      "source": [
        "1081 // 10*10\n"
      ],
      "execution_count": 158,
      "outputs": [
        {
          "output_type": "execute_result",
          "data": {
            "text/plain": [
              "1080"
            ]
          },
          "metadata": {
            "tags": []
          },
          "execution_count": 158
        }
      ]
    },
    {
      "metadata": {
        "id": "jMyX4Wan17ag",
        "colab_type": "code",
        "colab": {
          "base_uri": "https://localhost:8080/",
          "height": 34
        },
        "outputId": "7c7b27f2-d5d4-4e6f-bbe4-101b140788bc"
      },
      "cell_type": "code",
      "source": [
        "1081//10*10\n"
      ],
      "execution_count": 137,
      "outputs": [
        {
          "output_type": "execute_result",
          "data": {
            "text/plain": [
              "1080"
            ]
          },
          "metadata": {
            "tags": []
          },
          "execution_count": 137
        }
      ]
    },
    {
      "metadata": {
        "id": "4RVE_Au41-vy",
        "colab_type": "code",
        "colab": {
          "base_uri": "https://localhost:8080/",
          "height": 34
        },
        "outputId": "238194d8-9cfb-49d6-8bdf-61d315b95935"
      },
      "cell_type": "code",
      "source": [
        "1080//10"
      ],
      "execution_count": 138,
      "outputs": [
        {
          "output_type": "execute_result",
          "data": {
            "text/plain": [
              "108"
            ]
          },
          "metadata": {
            "tags": []
          },
          "execution_count": 138
        }
      ]
    },
    {
      "metadata": {
        "id": "Breuc5ap2C9K",
        "colab_type": "code",
        "colab": {}
      },
      "cell_type": "code",
      "source": [
        ""
      ],
      "execution_count": 0,
      "outputs": []
    }
  ]
}