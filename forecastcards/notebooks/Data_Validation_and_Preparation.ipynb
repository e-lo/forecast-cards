{
  "nbformat": 4,
  "nbformat_minor": 0,
  "metadata": {
    "colab": {
      "name": "Data Validation and Preparation",
      "version": "0.3.2",
      "provenance": [],
      "collapsed_sections": [],
      "toc_visible": true
    },
    "kernelspec": {
      "name": "python3",
      "display_name": "Python 3"
    }
  },
  "cells": [
    {
      "metadata": {
        "id": "s5S3Mi75wYV0",
        "colab_type": "code",
        "colab": {}
      },
      "cell_type": "code",
      "source": [
        "\n",
        "import os\n",
        "! pip install --upgrade git+https://github.com/e-lo/forecastcards.git@master#egg=forecastcards\n",
        "try:\n",
        "  import forecastcards\n",
        "except:\n",
        "  ! pip install --upgrade git+https://github.com/e-lo/forecastcards.git@master#egg=forecastcards\n",
        "  import forecastcards"
      ],
      "execution_count": 0,
      "outputs": []
    },
    {
      "metadata": {
        "id": "YlHI1siswpNL",
        "colab_type": "text"
      },
      "cell_type": "markdown",
      "source": [
        "# Data Validation and Preparation\n",
        "\n",
        "There are two main classes for forecast card data:  \n",
        " - **`Cardset`**: organization of forecastcards csv data \n",
        " - **`Dataset`**: [pandas](https://pandas.pydata.org/) data created from a  validated `Cardset` that is cleaned for estimation\n",
        "\n",
        "1. Find and validate data as a Cardset\n",
        "2. Combine and format data for estimation\n",
        "\n"
      ]
    },
    {
      "metadata": {
        "id": "HWaDWr4CxGgI",
        "colab_type": "text"
      },
      "cell_type": "markdown",
      "source": [
        "## 1 - Get and validate cards\n",
        "\n",
        "Finds all the relevant cards and assigns them a type in order to compare to the data schema.\n",
        "\n",
        "Returns a dictionary of card locations by card type.\n",
        "\n",
        "\n",
        "\n",
        "data_loc = local_example_data_loc,\n",
        "                 select_projects = [],\n",
        "                 exclude_projects = [],\n",
        "                 schemas = {},\n",
        "                 schema_locs = github_master_schema_loc,\n"
      ]
    },
    {
      "metadata": {
        "id": "hm2WFKh9woAD",
        "colab_type": "code",
        "colab": {}
      },
      "cell_type": "code",
      "source": [
        "#example data repository\n",
        "github_example_data = {'username':'e-lo','repository':'forecastcards','branch':'master'}\n",
        "\n",
        "#instantiate a cardset with all the defaults\n",
        "my_cards = forecastcards.Cardset(data_loc = github_example_data)\n",
        "\n",
        "print(\"-- Card Locations by Type:\",my_cards.card_locs_by_type)\n",
        "print(\"-- Data schema Locations by Type:\",my_cards.schema_locs)\n",
        "print(\"-- Valid Projects\",my_cards.validated_projects)"
      ],
      "execution_count": 0,
      "outputs": []
    },
    {
      "metadata": {
        "id": "PAVve_ZHx-FZ",
        "colab_type": "text"
      },
      "cell_type": "markdown",
      "source": [
        "You can also get data from your a local repository by feeding in a local directory:\n",
        "\n",
        "**NOTE** this will likely not work if you are running this in the cloud; or you will have to make modifications"
      ]
    },
    {
      "metadata": {
        "id": "wGl9EhrbyNdp",
        "colab_type": "code",
        "colab": {}
      },
      "cell_type": "code",
      "source": [
        "# this is assuming that you are running this file from a /notebooks directory which is at the same level as the /forecastcards module\n",
        "\n",
        "base_path          = os.path.dirname(os.path.realpath(__file__))\n",
        "local_example_data = os.path.join(os.path.join(fc_path,'forecastcards'),'examples')\n",
        "\n",
        "my_cards = forecastcards.Cardset(data_loc = local_example_data)\n",
        "\n",
        "print(my_cards.card_locs)\n",
        "print(my_cards.schema_locs)\n",
        "print(my_cards.validated_projects)\n"
      ],
      "execution_count": 0,
      "outputs": []
    },
    {
      "metadata": {
        "id": "RNI0AujMzHN0",
        "colab_type": "text"
      },
      "cell_type": "markdown",
      "source": [
        "### Validating using a modified schema\n",
        "\n",
        "If you modified the schema for any reason (i.e. you wanted to expand the project types), then you can validate the data compared to an alternate schema location, which is easy to set up using the **`Card_schema`** class.\n",
        "\n",
        "It is good to use the class because it will also validate the schema for you."
      ]
    },
    {
      "metadata": {
        "id": "Rt_4O_4dzFtf",
        "colab_type": "code",
        "colab": {}
      },
      "cell_type": "code",
      "source": [
        "#example data repository\n",
        "github_example_data = {'username':'e-lo','repository':'forecastcards','branch':'master'}\n",
        "\n",
        "#alternate schema repository location\n",
        "my_new_schema_loc = {'username':'e-lo',\n",
        "                     'repository':'forecastcards',\n",
        "                     'branch':'master',\n",
        "                     'subdir':'spec/en/'}\n",
        "\n",
        "my_schemas = forecastcards.Card_schema(schema_dir = my_new_schema_loc)\n",
        "\n",
        "\n",
        "#instantiate a cardset with all the defaults\n",
        "my_cards = forecastcards.Cardset(data_loc = github_example_data, schema_locs = my_schemas.schema_locs)"
      ],
      "execution_count": 0,
      "outputs": []
    },
    {
      "metadata": {
        "id": "N35s48TM0fsg",
        "colab_type": "text"
      },
      "cell_type": "markdown",
      "source": [
        "## 2 - Combine and Format Data for Estimation\n",
        "\n",
        "The **`Dataset`** class takes a cardset and turns it into a merged pandas dataframe.\n",
        "\n",
        "If you don't tell it not to, it will complete all the merging and a default set of cleaning and variable coding on instantiation including:\n",
        "\n",
        " 1. fix all missing values and clean records with required values . \n",
        " 2. code cateogrical variables as dummies  \n",
        " 3. scale the estimation dataset by the forecast value . \n",
        "\n",
        "\n",
        "  - **`recode_na_vars`** - list of variables to recode NA to \"missing\"\n",
        "  - **`no_na_vars`** - list of variables where having an NA isn't acceptable\n",
        "  - **`categorical_cols_list`** - list of columns that will be recoded   \n",
        " - **`required_vars`** - list of variables that will be kept  \n",
        "  - **`no_scale_cols`** - list of variables that won't be scaled\n",
        " "
      ]
    },
    {
      "metadata": {
        "id": "LuUXrw320f5h",
        "colab_type": "code",
        "colab": {}
      },
      "cell_type": "code",
      "source": [
        "cardset = forecastcards.Cardset(data_loc = github_example_data)\n",
        "\n",
        "dataset = forecastcards.Dataset(card_locs_by_type = cardset.card_locs_by_type, \n",
        "                                file_to_project_id = cardset.file_to_project_id\n",
        "                               )\n",
        "dataset.df"
      ],
      "execution_count": 0,
      "outputs": []
    },
    {
      "metadata": {
        "id": "Fd1TqQ8oLGCo",
        "colab_type": "text"
      },
      "cell_type": "markdown",
      "source": [
        "# Combine data from multiple sources\n",
        "\n",
        "You can combine data from several github repositories as well as mix local and github data. This could be useful if you were using a shared, public data repository and you wanted to add your data in."
      ]
    },
    {
      "metadata": {
        "id": "h--fqzwO0mpD",
        "colab_type": "code",
        "colab": {}
      },
      "cell_type": "code",
      "source": [
        "combined_gh_repo_cardset = forecastcards.Cardset(data_loc = github_example_data, exclude_projects=['lu123'])\n",
        "\n",
        "combined_gh_repo_cardset.add_projects(data_loc=github_example_data, select_projects=['lu123'])\n",
        "\n",
        "combined_gh_repo_cardset.validated_projects"
      ],
      "execution_count": 0,
      "outputs": []
    },
    {
      "metadata": {
        "id": "Byrs7kG5L5Ze",
        "colab_type": "code",
        "colab": {}
      },
      "cell_type": "code",
      "source": [
        "combined_gh_local_repo_cardset = forecastcards.Cardset(data_loc = github_example_data, exclude_projects=['lu123'])\n",
        "\n",
        "combined_gh_local_repo_cardset.add_projects(data_loc=local_example_data, select_projects=['lu123'])\n",
        "\n",
        "combined_gh_local_repo_cardset.card_locs_by_type\n"
      ],
      "execution_count": 0,
      "outputs": []
    },
    {
      "metadata": {
        "id": "E5fC8ZzeKpsO",
        "colab_type": "text"
      },
      "cell_type": "markdown",
      "source": [
        "# Explore Estimation Dataset\n"
      ]
    },
    {
      "metadata": {
        "id": "WgxF85LYKvBg",
        "colab_type": "text"
      },
      "cell_type": "markdown",
      "source": [
        ""
      ]
    },
    {
      "metadata": {
        "id": "8-Feu6_hLCDr",
        "colab_type": "code",
        "colab": {}
      },
      "cell_type": "code",
      "source": [
        "dataset.df.dtypes"
      ],
      "execution_count": 0,
      "outputs": []
    },
    {
      "metadata": {
        "id": "4r9eEzo72kFG",
        "colab_type": "code",
        "colab": {}
      },
      "cell_type": "code",
      "source": [
        "dataset.df.describe()\n",
        "dataset.df"
      ],
      "execution_count": 0,
      "outputs": []
    },
    {
      "metadata": {
        "id": "LftuXV7j2lpG",
        "colab_type": "code",
        "colab": {}
      },
      "cell_type": "code",
      "source": [
        "dataset.df.plot.scatter(y='forecast_value',\n",
        "                         x='obs_value')\n"
      ],
      "execution_count": 0,
      "outputs": []
    },
    {
      "metadata": {
        "id": "-P5C0nDlC627",
        "colab_type": "code",
        "colab": {}
      },
      "cell_type": "code",
      "source": [
        ""
      ],
      "execution_count": 0,
      "outputs": []
    }
  ]
}